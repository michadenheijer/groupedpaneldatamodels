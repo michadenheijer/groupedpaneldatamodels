{
 "cells": [
  {
   "cell_type": "code",
   "execution_count": 1,
   "id": "c77ef594",
   "metadata": {},
   "outputs": [],
   "source": [
    "import pickle\n",
    "import numpy as np\n",
    "from src.groupedpaneldatamodels import GroupedFixedEffects, GroupedInteractiveFixedEffects, grid_search_by_ic\n",
    "from joblib import Parallel, delayed\n",
    "from tqdm import tqdm\n",
    "import os"
   ]
  },
  {
   "cell_type": "markdown",
   "id": "93b79dda",
   "metadata": {},
   "source": [
    "# Bonhomme Manresa (DGP 1)"
   ]
  },
  {
   "cell_type": "code",
   "execution_count": 2,
   "id": "6c8a12f4",
   "metadata": {},
   "outputs": [],
   "source": [
    "def bm_run(run, G, i):\n",
    "    x, y, f, g = run\n",
    "    x = np.float32(x)\n",
    "    y = np.atleast_3d(np.float32(y))\n",
    "    f = np.float32(f)\n",
    "    gfe_iterations = 10 if G < 4 else 100\n",
    "    n_boot = 200\n",
    "    bootstrap = True if G < 4 else False\n",
    "    try:\n",
    "        m = GroupedFixedEffects(y, x, G, bootstrap, hide_progressbar=True).fit(\n",
    "            max_iter=100, gfe_iterations=gfe_iterations, n_boot=n_boot, boot_n_jobs=1\n",
    "        )\n",
    "\n",
    "        return m.to_dict()\n",
    "    except Exception as e:\n",
    "        print(f\"Error in run {i}: {e}\")\n",
    "        return None\n",
    "\n",
    "# runs = pickle.load(open(\"development/generated_data/dgp1_n100_t20_G3_k3.pkl\", \"rb\"))\n",
    "# bm_run(runs[0], 3, 0)"
   ]
  },
  {
   "cell_type": "code",
   "execution_count": 3,
   "id": "3843c98a",
   "metadata": {},
   "outputs": [
    {
     "name": "stdout",
     "output_type": "stream",
     "text": [
      "\n",
      "\n",
      "Running DGP1 with n=100, t=20, G=3, k=3\n"
     ]
    },
    {
     "name": "stderr",
     "output_type": "stream",
     "text": [
      "DGP1 n=100, t=20, G=3, k=3: 100%|██████████| 500/500 [10:03<00:00,  1.21s/it]\n"
     ]
    },
    {
     "name": "stdout",
     "output_type": "stream",
     "text": [
      "\n",
      "\n",
      "Running DGP1 with n=100, t=20, G=6, k=3\n"
     ]
    },
    {
     "name": "stderr",
     "output_type": "stream",
     "text": [
      "DGP1 n=100, t=20, G=6, k=3:   6%|▌         | 30/500 [00:04<01:24,  5.55it/s]"
     ]
    },
    {
     "name": "stdout",
     "output_type": "stream",
     "text": [
      "Error in run 17: Singular matrix\n"
     ]
    },
    {
     "name": "stderr",
     "output_type": "stream",
     "text": [
      "DGP1 n=100, t=20, G=6, k=3:  12%|█▏        | 60/500 [00:12<01:44,  4.22it/s]"
     ]
    },
    {
     "name": "stdout",
     "output_type": "stream",
     "text": [
      "Error in run 46: Singular matrix\n"
     ]
    },
    {
     "name": "stderr",
     "output_type": "stream",
     "text": [
      "DGP1 n=100, t=20, G=6, k=3:  36%|███▌      | 180/500 [00:45<01:20,  3.99it/s]"
     ]
    },
    {
     "name": "stdout",
     "output_type": "stream",
     "text": [
      "Error in run 163: Singular matrix\n"
     ]
    },
    {
     "name": "stderr",
     "output_type": "stream",
     "text": [
      "DGP1 n=100, t=20, G=6, k=3:  60%|██████    | 300/500 [01:16<00:53,  3.75it/s]"
     ]
    },
    {
     "name": "stdout",
     "output_type": "stream",
     "text": [
      "Error in run 280: Singular matrix\n",
      "Error in run 287: Singular matrix\n"
     ]
    },
    {
     "name": "stderr",
     "output_type": "stream",
     "text": [
      "DGP1 n=100, t=20, G=6, k=3:  70%|███████   | 350/500 [01:30<00:41,  3.58it/s]"
     ]
    },
    {
     "name": "stdout",
     "output_type": "stream",
     "text": [
      "Error in run 328: Singular matrix\n"
     ]
    },
    {
     "name": "stderr",
     "output_type": "stream",
     "text": [
      "DGP1 n=100, t=20, G=6, k=3:  72%|███████▏  | 360/500 [01:33<00:38,  3.59it/s]"
     ]
    },
    {
     "name": "stdout",
     "output_type": "stream",
     "text": [
      "Error in run 342: Singular matrix\n"
     ]
    },
    {
     "name": "stderr",
     "output_type": "stream",
     "text": [
      "DGP1 n=100, t=20, G=6, k=3:  76%|███████▌  | 380/500 [01:38<00:32,  3.71it/s]"
     ]
    },
    {
     "name": "stdout",
     "output_type": "stream",
     "text": [
      "Error in run 366: Singular matrix\n"
     ]
    },
    {
     "name": "stderr",
     "output_type": "stream",
     "text": [
      "DGP1 n=100, t=20, G=6, k=3:  88%|████████▊ | 440/500 [01:55<00:17,  3.44it/s]"
     ]
    },
    {
     "name": "stdout",
     "output_type": "stream",
     "text": [
      "Error in run 428: Singular matrix\n"
     ]
    },
    {
     "name": "stderr",
     "output_type": "stream",
     "text": [
      "DGP1 n=100, t=20, G=6, k=3:  96%|█████████▌| 480/500 [02:06<00:05,  3.75it/s]"
     ]
    },
    {
     "name": "stdout",
     "output_type": "stream",
     "text": [
      "Error in run 464: Singular matrix\n"
     ]
    },
    {
     "name": "stderr",
     "output_type": "stream",
     "text": [
      "DGP1 n=100, t=20, G=6, k=3: 100%|██████████| 500/500 [02:11<00:00,  3.80it/s]\n"
     ]
    },
    {
     "name": "stdout",
     "output_type": "stream",
     "text": [
      "Error in run 487: Singular matrix\n",
      "Error in run 490: Singular matrix\n",
      "Error in run 494: Singular matrix\n",
      "\n",
      "\n",
      "Running DGP1 with n=100, t=50, G=3, k=3\n"
     ]
    },
    {
     "name": "stderr",
     "output_type": "stream",
     "text": [
      "DGP1 n=100, t=50, G=3, k=3: 100%|██████████| 500/500 [22:19<00:00,  2.68s/it]\n"
     ]
    },
    {
     "name": "stdout",
     "output_type": "stream",
     "text": [
      "\n",
      "\n",
      "Running DGP1 with n=100, t=50, G=6, k=3\n"
     ]
    },
    {
     "name": "stderr",
     "output_type": "stream",
     "text": [
      "DGP1 n=100, t=50, G=6, k=3:   4%|▍         | 20/500 [00:03<01:34,  5.08it/s]"
     ]
    },
    {
     "name": "stdout",
     "output_type": "stream",
     "text": [
      "Error in run 3: Singular matrix\n",
      "Error in run 6: Singular matrix\n"
     ]
    },
    {
     "name": "stderr",
     "output_type": "stream",
     "text": [
      "DGP1 n=100, t=50, G=6, k=3:   6%|▌         | 30/500 [00:08<02:27,  3.19it/s]"
     ]
    },
    {
     "name": "stdout",
     "output_type": "stream",
     "text": [
      "Error in run 12: Singular matrix\n"
     ]
    },
    {
     "name": "stderr",
     "output_type": "stream",
     "text": [
      "DGP1 n=100, t=50, G=6, k=3:   8%|▊         | 40/500 [00:13<02:47,  2.75it/s]"
     ]
    },
    {
     "name": "stdout",
     "output_type": "stream",
     "text": [
      "Error in run 27: Singular matrix\n",
      "Error in run 22: Singular matrix\n",
      "Error in run 28: Singular matrix\n"
     ]
    },
    {
     "name": "stderr",
     "output_type": "stream",
     "text": [
      "DGP1 n=100, t=50, G=6, k=3:  10%|█         | 50/500 [00:18<03:12,  2.33it/s]"
     ]
    },
    {
     "name": "stdout",
     "output_type": "stream",
     "text": [
      "Error in run 31: Singular matrix\n",
      "Error in run 36: Singular matrix\n",
      "Error in run 37: Singular matrix\n",
      "Error in run 38: Singular matrix\n"
     ]
    },
    {
     "name": "stderr",
     "output_type": "stream",
     "text": [
      "DGP1 n=100, t=50, G=6, k=3:  12%|█▏        | 60/500 [00:24<03:32,  2.08it/s]"
     ]
    },
    {
     "name": "stdout",
     "output_type": "stream",
     "text": [
      "Error in run 42: Singular matrix\n",
      "Error in run 46: Singular matrix\n",
      "Error in run 50: Singular matrix\n"
     ]
    },
    {
     "name": "stderr",
     "output_type": "stream",
     "text": [
      "DGP1 n=100, t=50, G=6, k=3:  14%|█▍        | 70/500 [00:30<03:36,  1.98it/s]"
     ]
    },
    {
     "name": "stdout",
     "output_type": "stream",
     "text": [
      "Error in run 53: Singular matrix\n",
      "Error in run 57: Singular matrix\n"
     ]
    },
    {
     "name": "stderr",
     "output_type": "stream",
     "text": [
      "DGP1 n=100, t=50, G=6, k=3:  18%|█▊        | 90/500 [00:40<03:33,  1.92it/s]"
     ]
    },
    {
     "name": "stdout",
     "output_type": "stream",
     "text": [
      "Error in run 80: Singular matrix\n"
     ]
    },
    {
     "name": "stderr",
     "output_type": "stream",
     "text": [
      "DGP1 n=100, t=50, G=6, k=3:  22%|██▏       | 110/500 [00:52<03:32,  1.83it/s]"
     ]
    },
    {
     "name": "stdout",
     "output_type": "stream",
     "text": [
      "Error in run 92: Singular matrix\n",
      "Error in run 96: Singular matrix\n",
      "Error in run 94: Singular matrix\n",
      "Error in run 98: Singular matrix\n"
     ]
    },
    {
     "name": "stderr",
     "output_type": "stream",
     "text": [
      "DGP1 n=100, t=50, G=6, k=3:  24%|██▍       | 120/500 [00:57<03:28,  1.82it/s]"
     ]
    },
    {
     "name": "stdout",
     "output_type": "stream",
     "text": [
      "Error in run 102: Singular matrix\n",
      "Error in run 103: Singular matrix\n",
      "Error in run 108: Singular matrix\n",
      "Error in run 105: Singular matrix\n"
     ]
    },
    {
     "name": "stderr",
     "output_type": "stream",
     "text": [
      "DGP1 n=100, t=50, G=6, k=3:  26%|██▌       | 130/500 [01:03<03:26,  1.79it/s]"
     ]
    },
    {
     "name": "stdout",
     "output_type": "stream",
     "text": [
      "Error in run 112: Singular matrix\n",
      "Error in run 116: Singular matrix\n"
     ]
    },
    {
     "name": "stderr",
     "output_type": "stream",
     "text": [
      "DGP1 n=100, t=50, G=6, k=3:  28%|██▊       | 140/500 [01:09<03:23,  1.77it/s]"
     ]
    },
    {
     "name": "stdout",
     "output_type": "stream",
     "text": [
      "Error in run 121: Singular matrix\n",
      "Error in run 123: Singular matrix\n",
      "Error in run 127: Singular matrix\n",
      "Error in run 132: Singular matrix\n"
     ]
    },
    {
     "name": "stderr",
     "output_type": "stream",
     "text": [
      "DGP1 n=100, t=50, G=6, k=3:  32%|███▏      | 160/500 [01:19<03:02,  1.87it/s]"
     ]
    },
    {
     "name": "stdout",
     "output_type": "stream",
     "text": [
      "Error in run 144: Singular matrix\n",
      "Error in run 143: Singular matrix\n",
      "Error in run 149: Singular matrix\n"
     ]
    },
    {
     "name": "stderr",
     "output_type": "stream",
     "text": [
      "DGP1 n=100, t=50, G=6, k=3:  36%|███▌      | 180/500 [01:30<02:57,  1.81it/s]"
     ]
    },
    {
     "name": "stdout",
     "output_type": "stream",
     "text": [
      "Error in run 165: Singular matrix\n"
     ]
    },
    {
     "name": "stderr",
     "output_type": "stream",
     "text": [
      "DGP1 n=100, t=50, G=6, k=3:  38%|███▊      | 190/500 [01:36<02:47,  1.85it/s]"
     ]
    },
    {
     "name": "stdout",
     "output_type": "stream",
     "text": [
      "Error in run 177: Singular matrix\n",
      "Error in run 180: Singular matrix\n"
     ]
    },
    {
     "name": "stderr",
     "output_type": "stream",
     "text": [
      "DGP1 n=100, t=50, G=6, k=3:  40%|████      | 200/500 [01:42<02:48,  1.78it/s]"
     ]
    },
    {
     "name": "stdout",
     "output_type": "stream",
     "text": [
      "Error in run 190: Singular matrix\n"
     ]
    },
    {
     "name": "stderr",
     "output_type": "stream",
     "text": [
      "DGP1 n=100, t=50, G=6, k=3:  42%|████▏     | 210/500 [01:46<02:29,  1.94it/s]"
     ]
    },
    {
     "name": "stdout",
     "output_type": "stream",
     "text": [
      "Error in run 198: Singular matrix\n",
      "Error in run 199: Singular matrix\n"
     ]
    },
    {
     "name": "stderr",
     "output_type": "stream",
     "text": [
      "DGP1 n=100, t=50, G=6, k=3:  44%|████▍     | 220/500 [01:51<02:21,  1.98it/s]"
     ]
    },
    {
     "name": "stdout",
     "output_type": "stream",
     "text": [
      "Error in run 203: Singular matrix\n",
      "Error in run 207: Singular matrix\n",
      "Error in run 209: Singular matrix\n"
     ]
    },
    {
     "name": "stderr",
     "output_type": "stream",
     "text": [
      "DGP1 n=100, t=50, G=6, k=3:  48%|████▊     | 240/500 [02:02<02:18,  1.87it/s]"
     ]
    },
    {
     "name": "stdout",
     "output_type": "stream",
     "text": [
      "Error in run 223: Singular matrix\n",
      "Error in run 228: Singular matrix\n"
     ]
    },
    {
     "name": "stderr",
     "output_type": "stream",
     "text": [
      "DGP1 n=100, t=50, G=6, k=3:  50%|█████     | 250/500 [02:07<02:09,  1.93it/s]"
     ]
    },
    {
     "name": "stdout",
     "output_type": "stream",
     "text": [
      "Error in run 229: Singular matrix\n",
      "Error in run 230: Singular matrix\n",
      "Error in run 237: Singular matrix\n",
      "Error in run 238: Singular matrix\n",
      "Error in run 234: Singular matrix\n"
     ]
    },
    {
     "name": "stderr",
     "output_type": "stream",
     "text": [
      "DGP1 n=100, t=50, G=6, k=3:  52%|█████▏    | 260/500 [02:13<02:14,  1.78it/s]"
     ]
    },
    {
     "name": "stdout",
     "output_type": "stream",
     "text": [
      "Error in run 246: Singular matrix\n"
     ]
    },
    {
     "name": "stderr",
     "output_type": "stream",
     "text": [
      "DGP1 n=100, t=50, G=6, k=3:  56%|█████▌    | 280/500 [02:24<02:00,  1.83it/s]"
     ]
    },
    {
     "name": "stdout",
     "output_type": "stream",
     "text": [
      "Error in run 263: Singular matrix\n",
      "Error in run 268: Singular matrix\n"
     ]
    },
    {
     "name": "stderr",
     "output_type": "stream",
     "text": [
      "DGP1 n=100, t=50, G=6, k=3:  58%|█████▊    | 290/500 [02:29<01:51,  1.89it/s]"
     ]
    },
    {
     "name": "stdout",
     "output_type": "stream",
     "text": [
      "Error in run 272: Singular matrix\n",
      "Error in run 270: Singular matrix\n"
     ]
    },
    {
     "name": "stderr",
     "output_type": "stream",
     "text": [
      "DGP1 n=100, t=50, G=6, k=3:  62%|██████▏   | 310/500 [02:37<01:30,  2.10it/s]"
     ]
    },
    {
     "name": "stdout",
     "output_type": "stream",
     "text": [
      "Error in run 289: Singular matrix\n",
      "Error in run 290: Singular matrix\n"
     ]
    },
    {
     "name": "stderr",
     "output_type": "stream",
     "text": [
      "DGP1 n=100, t=50, G=6, k=3:  64%|██████▍   | 320/500 [02:43<01:32,  1.94it/s]"
     ]
    },
    {
     "name": "stdout",
     "output_type": "stream",
     "text": [
      "Error in run 303: Singular matrix\n",
      "Error in run 306: Singular matrix\n",
      "Error in run 309: Singular matrix\n"
     ]
    },
    {
     "name": "stderr",
     "output_type": "stream",
     "text": [
      "DGP1 n=100, t=50, G=6, k=3:  66%|██████▌   | 330/500 [02:48<01:28,  1.93it/s]"
     ]
    },
    {
     "name": "stdout",
     "output_type": "stream",
     "text": [
      "Error in run 315: Singular matrix\n",
      "Error in run 319: Singular matrix\n"
     ]
    },
    {
     "name": "stderr",
     "output_type": "stream",
     "text": [
      "DGP1 n=100, t=50, G=6, k=3:  68%|██████▊   | 340/500 [02:53<01:22,  1.94it/s]"
     ]
    },
    {
     "name": "stdout",
     "output_type": "stream",
     "text": [
      "Error in run 323: Singular matrix\n",
      "Error in run 327: Singular matrix\n",
      "Error in run 325: Singular matrix\n"
     ]
    },
    {
     "name": "stderr",
     "output_type": "stream",
     "text": [
      "DGP1 n=100, t=50, G=6, k=3:  70%|███████   | 350/500 [02:59<01:18,  1.91it/s]"
     ]
    },
    {
     "name": "stdout",
     "output_type": "stream",
     "text": [
      "Error in run 341: Singular matrix\n"
     ]
    },
    {
     "name": "stderr",
     "output_type": "stream",
     "text": [
      "DGP1 n=100, t=50, G=6, k=3:  72%|███████▏  | 360/500 [03:04<01:13,  1.90it/s]"
     ]
    },
    {
     "name": "stdout",
     "output_type": "stream",
     "text": [
      "Error in run 346: Singular matrix\n"
     ]
    },
    {
     "name": "stderr",
     "output_type": "stream",
     "text": [
      "DGP1 n=100, t=50, G=6, k=3:  76%|███████▌  | 380/500 [03:15<01:02,  1.91it/s]"
     ]
    },
    {
     "name": "stdout",
     "output_type": "stream",
     "text": [
      "Error in run 361: Singular matrix\n",
      "Error in run 362: Singular matrix\n",
      "Error in run 370: Singular matrix\n"
     ]
    },
    {
     "name": "stderr",
     "output_type": "stream",
     "text": [
      "DGP1 n=100, t=50, G=6, k=3:  78%|███████▊  | 390/500 [03:19<00:56,  1.96it/s]"
     ]
    },
    {
     "name": "stdout",
     "output_type": "stream",
     "text": [
      "Error in run 373: Singular matrix\n",
      "Error in run 379: Singular matrix\n",
      "Error in run 377: Singular matrix\n"
     ]
    },
    {
     "name": "stderr",
     "output_type": "stream",
     "text": [
      "DGP1 n=100, t=50, G=6, k=3:  80%|████████  | 400/500 [03:24<00:51,  1.96it/s]"
     ]
    },
    {
     "name": "stdout",
     "output_type": "stream",
     "text": [
      "Error in run 388: Singular matrix\n"
     ]
    },
    {
     "name": "stderr",
     "output_type": "stream",
     "text": [
      "DGP1 n=100, t=50, G=6, k=3:  82%|████████▏ | 410/500 [03:30<00:46,  1.94it/s]"
     ]
    },
    {
     "name": "stdout",
     "output_type": "stream",
     "text": [
      "Error in run 391: Singular matrix\n",
      "Error in run 398: Singular matrix\n",
      "Error in run 399: Singular matrix\n"
     ]
    },
    {
     "name": "stderr",
     "output_type": "stream",
     "text": [
      "DGP1 n=100, t=50, G=6, k=3:  84%|████████▍ | 420/500 [03:34<00:39,  2.01it/s]"
     ]
    },
    {
     "name": "stdout",
     "output_type": "stream",
     "text": [
      "Error in run 409: Singular matrix\n"
     ]
    },
    {
     "name": "stderr",
     "output_type": "stream",
     "text": [
      "DGP1 n=100, t=50, G=6, k=3:  86%|████████▌ | 430/500 [03:41<00:38,  1.82it/s]"
     ]
    },
    {
     "name": "stdout",
     "output_type": "stream",
     "text": [
      "Error in run 412: Singular matrix\n",
      "Error in run 413: Singular matrix\n",
      "Error in run 418: Singular matrix\n"
     ]
    },
    {
     "name": "stderr",
     "output_type": "stream",
     "text": [
      "DGP1 n=100, t=50, G=6, k=3:  88%|████████▊ | 440/500 [03:46<00:32,  1.84it/s]"
     ]
    },
    {
     "name": "stdout",
     "output_type": "stream",
     "text": [
      "Error in run 421: Singular matrix\n",
      "Error in run 425: Singular matrix\n",
      "Error in run 427: Singular matrix\n",
      "Error in run 428: Singular matrix\n"
     ]
    },
    {
     "name": "stderr",
     "output_type": "stream",
     "text": [
      "DGP1 n=100, t=50, G=6, k=3:  90%|█████████ | 450/500 [03:51<00:26,  1.91it/s]"
     ]
    },
    {
     "name": "stdout",
     "output_type": "stream",
     "text": [
      "Error in run 430: Singular matrix\n"
     ]
    },
    {
     "name": "stderr",
     "output_type": "stream",
     "text": [
      "DGP1 n=100, t=50, G=6, k=3:  92%|█████████▏| 460/500 [03:56<00:20,  1.98it/s]"
     ]
    },
    {
     "name": "stdout",
     "output_type": "stream",
     "text": [
      "Error in run 440: Singular matrix\n",
      "Error in run 449: Singular matrix\n",
      "Error in run 447: Singular matrix\n"
     ]
    },
    {
     "name": "stderr",
     "output_type": "stream",
     "text": [
      "DGP1 n=100, t=50, G=6, k=3:  94%|█████████▍| 470/500 [04:01<00:15,  1.95it/s]"
     ]
    },
    {
     "name": "stdout",
     "output_type": "stream",
     "text": [
      "Error in run 452: Singular matrix\n",
      "Error in run 457: Singular matrix\n",
      "Error in run 461: Singular matrix\n"
     ]
    },
    {
     "name": "stderr",
     "output_type": "stream",
     "text": [
      "DGP1 n=100, t=50, G=6, k=3:  96%|█████████▌| 480/500 [04:05<00:09,  2.04it/s]"
     ]
    },
    {
     "name": "stdout",
     "output_type": "stream",
     "text": [
      "Error in run 463: Singular matrix\n"
     ]
    },
    {
     "name": "stderr",
     "output_type": "stream",
     "text": [
      "DGP1 n=100, t=50, G=6, k=3:  98%|█████████▊| 490/500 [04:11<00:04,  2.00it/s]"
     ]
    },
    {
     "name": "stdout",
     "output_type": "stream",
     "text": [
      "Error in run 476: Singular matrix\n",
      "Error in run 478: Singular matrix\n"
     ]
    },
    {
     "name": "stderr",
     "output_type": "stream",
     "text": [
      "DGP1 n=100, t=50, G=6, k=3: 100%|██████████| 500/500 [04:16<00:00,  1.95it/s]\n"
     ]
    },
    {
     "name": "stdout",
     "output_type": "stream",
     "text": [
      "Error in run 481: Singular matrix\n",
      "Error in run 485: Singular matrix\n",
      "Error in run 491: Singular matrix\n",
      "Error in run 497: Singular matrix\n",
      "\n",
      "\n",
      "Running DGP1 with n=200, t=20, G=3, k=3\n"
     ]
    },
    {
     "name": "stderr",
     "output_type": "stream",
     "text": [
      "DGP1 n=200, t=20, G=3, k=3: 100%|██████████| 500/500 [15:27<00:00,  1.86s/it]\n"
     ]
    },
    {
     "name": "stdout",
     "output_type": "stream",
     "text": [
      "\n",
      "\n",
      "Running DGP1 with n=200, t=20, G=6, k=3\n"
     ]
    },
    {
     "name": "stderr",
     "output_type": "stream",
     "text": [
      "DGP1 n=200, t=20, G=6, k=3: 100%|██████████| 500/500 [04:24<00:00,  1.89it/s]\n"
     ]
    },
    {
     "name": "stdout",
     "output_type": "stream",
     "text": [
      "\n",
      "\n",
      "Running DGP1 with n=200, t=50, G=3, k=3\n"
     ]
    },
    {
     "name": "stderr",
     "output_type": "stream",
     "text": [
      "DGP1 n=200, t=50, G=3, k=3: 100%|██████████| 500/500 [43:24<00:00,  5.21s/it]\n"
     ]
    },
    {
     "name": "stdout",
     "output_type": "stream",
     "text": [
      "\n",
      "\n",
      "Running DGP1 with n=200, t=50, G=6, k=3\n"
     ]
    },
    {
     "name": "stderr",
     "output_type": "stream",
     "text": [
      "DGP1 n=200, t=50, G=6, k=3:   6%|▌         | 30/500 [00:21<05:51,  1.34it/s]"
     ]
    },
    {
     "name": "stdout",
     "output_type": "stream",
     "text": [
      "Error in run 13: Singular matrix\n",
      "Error in run 12: Singular matrix\n"
     ]
    },
    {
     "name": "stderr",
     "output_type": "stream",
     "text": [
      "DGP1 n=200, t=50, G=6, k=3:  12%|█▏        | 60/500 [00:57<08:01,  1.09s/it]"
     ]
    },
    {
     "name": "stdout",
     "output_type": "stream",
     "text": [
      "Error in run 49: Singular matrix\n"
     ]
    },
    {
     "name": "stderr",
     "output_type": "stream",
     "text": [
      "DGP1 n=200, t=50, G=6, k=3:  16%|█▌        | 80/500 [01:24<08:30,  1.22s/it]"
     ]
    },
    {
     "name": "stdout",
     "output_type": "stream",
     "text": [
      "Error in run 68: Singular matrix\n",
      "Error in run 69: Singular matrix\n"
     ]
    },
    {
     "name": "stderr",
     "output_type": "stream",
     "text": [
      "DGP1 n=200, t=50, G=6, k=3:  18%|█▊        | 90/500 [01:35<08:06,  1.19s/it]"
     ]
    },
    {
     "name": "stdout",
     "output_type": "stream",
     "text": [
      "Error in run 79: Singular matrix\n"
     ]
    },
    {
     "name": "stderr",
     "output_type": "stream",
     "text": [
      "DGP1 n=200, t=50, G=6, k=3:  20%|██        | 100/500 [01:46<07:39,  1.15s/it]"
     ]
    },
    {
     "name": "stdout",
     "output_type": "stream",
     "text": [
      "Error in run 80: Singular matrix\n"
     ]
    },
    {
     "name": "stderr",
     "output_type": "stream",
     "text": [
      "DGP1 n=200, t=50, G=6, k=3:  32%|███▏      | 160/500 [02:59<06:55,  1.22s/it]"
     ]
    },
    {
     "name": "stdout",
     "output_type": "stream",
     "text": [
      "Error in run 150: Singular matrix\n"
     ]
    },
    {
     "name": "stderr",
     "output_type": "stream",
     "text": [
      "DGP1 n=200, t=50, G=6, k=3:  40%|████      | 200/500 [03:48<06:14,  1.25s/it]"
     ]
    },
    {
     "name": "stdout",
     "output_type": "stream",
     "text": [
      "Error in run 183: Singular matrix\n",
      "Error in run 191: Singular matrix\n"
     ]
    },
    {
     "name": "stderr",
     "output_type": "stream",
     "text": [
      "DGP1 n=200, t=50, G=6, k=3:  48%|████▊     | 240/500 [04:39<05:36,  1.29s/it]"
     ]
    },
    {
     "name": "stdout",
     "output_type": "stream",
     "text": [
      "Error in run 231: Singular matrix\n"
     ]
    },
    {
     "name": "stderr",
     "output_type": "stream",
     "text": [
      "DGP1 n=200, t=50, G=6, k=3:  50%|█████     | 250/500 [04:49<05:06,  1.23s/it]"
     ]
    },
    {
     "name": "stdout",
     "output_type": "stream",
     "text": [
      "Error in run 238: Singular matrix\n"
     ]
    },
    {
     "name": "stderr",
     "output_type": "stream",
     "text": [
      "DGP1 n=200, t=50, G=6, k=3:  62%|██████▏   | 310/500 [06:04<03:54,  1.23s/it]"
     ]
    },
    {
     "name": "stdout",
     "output_type": "stream",
     "text": [
      "Error in run 296: Singular matrix\n"
     ]
    },
    {
     "name": "stderr",
     "output_type": "stream",
     "text": [
      "DGP1 n=200, t=50, G=6, k=3:  74%|███████▍  | 370/500 [07:16<02:38,  1.22s/it]"
     ]
    },
    {
     "name": "stdout",
     "output_type": "stream",
     "text": [
      "Error in run 352: Singular matrix\n",
      "Error in run 360: Singular matrix\n"
     ]
    },
    {
     "name": "stderr",
     "output_type": "stream",
     "text": [
      "DGP1 n=200, t=50, G=6, k=3:  80%|████████  | 400/500 [07:55<02:05,  1.26s/it]"
     ]
    },
    {
     "name": "stdout",
     "output_type": "stream",
     "text": [
      "Error in run 389: Singular matrix\n"
     ]
    },
    {
     "name": "stderr",
     "output_type": "stream",
     "text": [
      "DGP1 n=200, t=50, G=6, k=3:  84%|████████▍ | 420/500 [08:20<01:40,  1.26s/it]"
     ]
    },
    {
     "name": "stdout",
     "output_type": "stream",
     "text": [
      "Error in run 403: Singular matrix\n"
     ]
    },
    {
     "name": "stderr",
     "output_type": "stream",
     "text": [
      "DGP1 n=200, t=50, G=6, k=3:  90%|█████████ | 450/500 [08:55<01:01,  1.22s/it]"
     ]
    },
    {
     "name": "stdout",
     "output_type": "stream",
     "text": [
      "Error in run 439: Singular matrix\n"
     ]
    },
    {
     "name": "stderr",
     "output_type": "stream",
     "text": [
      "DGP1 n=200, t=50, G=6, k=3:  92%|█████████▏| 460/500 [09:06<00:47,  1.18s/it]"
     ]
    },
    {
     "name": "stdout",
     "output_type": "stream",
     "text": [
      "Error in run 443: Singular matrix\n"
     ]
    },
    {
     "name": "stderr",
     "output_type": "stream",
     "text": [
      "DGP1 n=200, t=50, G=6, k=3:  96%|█████████▌| 480/500 [09:31<00:24,  1.22s/it]"
     ]
    },
    {
     "name": "stdout",
     "output_type": "stream",
     "text": [
      "Error in run 465: Singular matrix\n"
     ]
    },
    {
     "name": "stderr",
     "output_type": "stream",
     "text": [
      "DGP1 n=200, t=50, G=6, k=3:  98%|█████████▊| 490/500 [09:43<00:12,  1.20s/it]"
     ]
    },
    {
     "name": "stdout",
     "output_type": "stream",
     "text": [
      "Error in run 479: Singular matrix\n"
     ]
    },
    {
     "name": "stderr",
     "output_type": "stream",
     "text": [
      "DGP1 n=200, t=50, G=6, k=3: 100%|██████████| 500/500 [09:56<00:00,  1.19s/it]\n"
     ]
    }
   ],
   "source": [
    "for n in (100, 200):\n",
    "    for t in (20, 50):\n",
    "        for G in (3, 6):\n",
    "            for k in (3,):\n",
    "                output_path = f\"estimates/dgp1_n{n}_t{t}_G{G}_k{k}_full.pkl\"\n",
    "                if os.path.exists(output_path):\n",
    "                    print(f\"Skipping DGP1 with n={n}, t={t}, G={G}, k={k} (already exists)\")\n",
    "                    continue\n",
    "\n",
    "                print(f\"\\n\\nRunning DGP1 with n={n}, t={t}, G={G}, k={k}\")\n",
    "                runs = pickle.load(open(f\"development/generated_data/dgp1_n{n}_t{t}_G{G}_k{k}.pkl\", \"rb\"))\n",
    "\n",
    "                # Wrap the iterable in tqdm to get a progress bar\n",
    "                estimates = Parallel(n_jobs=-1, prefer=\"processes\")(\n",
    "                    delayed(bm_run)(run, G, i)\n",
    "                    for i, run in tqdm(enumerate(runs), total=500, desc=f\"DGP1 n={n}, t={t}, G={G}, k={k}\")\n",
    "                )\n",
    "\n",
    "                with open(output_path, \"wb\") as f:\n",
    "                    pickle.dump(estimates, f)"
   ]
  },
  {
   "cell_type": "markdown",
   "id": "376fcad5",
   "metadata": {},
   "source": [
    "## DGP 2"
   ]
  },
  {
   "cell_type": "code",
   "execution_count": 4,
   "id": "c3368755",
   "metadata": {},
   "outputs": [],
   "source": [
    "def ab_run(run, G, i):\n",
    "    x, y, f, g, *_ = run\n",
    "    x = np.float32(x)\n",
    "    y = np.atleast_3d(np.float32(y))\n",
    "    f = np.float32(f)\n",
    "    gife_iterations = 10 if G < 4 else 100\n",
    "    n_boot = 200 if G < 4 else 100\n",
    "    bootstrap = True if G < 4 else False\n",
    "    try:\n",
    "        m = GroupedInteractiveFixedEffects(y, x, G, bootstrap, hide_progressbar=True).fit(max_iter=100, gife_iterations=gife_iterations, n_boot=n_boot, boot_n_jobs=1)\n",
    "\n",
    "        return m.to_dict()\n",
    "    except Exception as err:\n",
    "        print(f\"Error {err}\")\n",
    "\n",
    "        return\n",
    "\n",
    "# runs = pickle.load(open(\"development/generated_data/dgp2_n100_t20_G3_k3.pkl\", \"rb\"))\n",
    "# ab_run(runs[0], 3, 0)"
   ]
  },
  {
   "cell_type": "code",
   "execution_count": 5,
   "id": "c0a1fe40",
   "metadata": {},
   "outputs": [
    {
     "name": "stdout",
     "output_type": "stream",
     "text": [
      "\n",
      "\n",
      "Running DGP2 (ab) with n=100, t=20, G=3, k=3\n"
     ]
    },
    {
     "name": "stderr",
     "output_type": "stream",
     "text": [
      "DGP2 n=100, t=20, G=3, k=3: 100%|██████████| 500/500 [49:55<00:00,  5.99s/it]\n"
     ]
    },
    {
     "name": "stdout",
     "output_type": "stream",
     "text": [
      "\n",
      "\n",
      "Running DGP2 (ab) with n=100, t=20, G=6, k=3\n"
     ]
    },
    {
     "name": "stderr",
     "output_type": "stream",
     "text": [
      "DGP2 n=100, t=20, G=6, k=3: 100%|██████████| 500/500 [06:49<00:00,  1.22it/s]\n"
     ]
    },
    {
     "name": "stdout",
     "output_type": "stream",
     "text": [
      "\n",
      "\n",
      "Running DGP2 (ab) with n=100, t=50, G=3, k=3\n"
     ]
    },
    {
     "name": "stderr",
     "output_type": "stream",
     "text": [
      "DGP2 n=100, t=50, G=3, k=3: 100%|██████████| 500/500 [1:09:44<00:00,  8.37s/it]\n"
     ]
    },
    {
     "name": "stdout",
     "output_type": "stream",
     "text": [
      "\n",
      "\n",
      "Running DGP2 (ab) with n=100, t=50, G=6, k=3\n"
     ]
    },
    {
     "name": "stderr",
     "output_type": "stream",
     "text": [
      "DGP2 n=100, t=50, G=6, k=3: 100%|██████████| 500/500 [08:29<00:00,  1.02s/it]\n"
     ]
    },
    {
     "name": "stdout",
     "output_type": "stream",
     "text": [
      "\n",
      "\n",
      "Running DGP2 (ab) with n=200, t=20, G=3, k=3\n"
     ]
    },
    {
     "name": "stderr",
     "output_type": "stream",
     "text": [
      "DGP2 n=200, t=20, G=3, k=3: 100%|██████████| 500/500 [57:15<00:00,  6.87s/it]\n"
     ]
    },
    {
     "name": "stdout",
     "output_type": "stream",
     "text": [
      "\n",
      "\n",
      "Running DGP2 (ab) with n=200, t=20, G=6, k=3\n"
     ]
    },
    {
     "name": "stderr",
     "output_type": "stream",
     "text": [
      "DGP2 n=200, t=20, G=6, k=3: 100%|██████████| 500/500 [06:57<00:00,  1.20it/s]\n"
     ]
    },
    {
     "name": "stdout",
     "output_type": "stream",
     "text": [
      "\n",
      "\n",
      "Running DGP2 (ab) with n=200, t=50, G=3, k=3\n"
     ]
    },
    {
     "name": "stderr",
     "output_type": "stream",
     "text": [
      "DGP2 n=200, t=50, G=3, k=3: 100%|██████████| 500/500 [2:18:53<00:00, 16.67s/it]\n"
     ]
    },
    {
     "name": "stdout",
     "output_type": "stream",
     "text": [
      "\n",
      "\n",
      "Running DGP2 (ab) with n=200, t=50, G=6, k=3\n"
     ]
    },
    {
     "name": "stderr",
     "output_type": "stream",
     "text": [
      "DGP2 n=200, t=50, G=6, k=3: 100%|██████████| 500/500 [16:45<00:00,  2.01s/it]\n"
     ]
    }
   ],
   "source": [
    "for n in (100, 200):\n",
    "    for t in (20, 50):\n",
    "        for G in (3, 6):\n",
    "            for k in (3,):\n",
    "                output_path = f\"estimates/dgp2_n{n}_t{t}_G{G}_k{k}_full.pkl\"\n",
    "                if os.path.exists(output_path):\n",
    "                    print(f\"Skipping DGP2 with n={n}, t={t}, G={G}, k={k} (already exists)\")\n",
    "                    continue\n",
    "                print(f\"\\n\\nRunning DGP2 (ab) with n={n}, t={t}, G={G}, k={k}\")\n",
    "                runs = pickle.load(open(f\"development/generated_data/dgp2_n{n}_t{t}_G{G}_k{k}.pkl\", \"rb\"))\n",
    "\n",
    "                estimates = Parallel(n_jobs=-1, prefer=\"processes\")(\n",
    "                    delayed(ab_run)(run, G, i)\n",
    "                    for i, run in tqdm(enumerate(runs), total=500, desc=f\"DGP2 n={n}, t={t}, G={G}, k={k}\")\n",
    "                )\n",
    "\n",
    "                with open(output_path, \"wb\") as f:\n",
    "                    pickle.dump(estimates, f)"
   ]
  },
  {
   "cell_type": "code",
   "execution_count": 6,
   "id": "1b548cbb",
   "metadata": {},
   "outputs": [],
   "source": [
    "def sj_run(run, G, i):\n",
    "    x, y, f, g, *_ = run\n",
    "    x = np.float32(x)\n",
    "    y = np.atleast_3d(np.float32(y))\n",
    "    f = np.float32(f)\n",
    "    n_boot = 100 if G < 4 else 50\n",
    "    kappa = 0.005 if G < 4 else 0.00005\n",
    "    bootstrap = True if G < 4 else False\n",
    "    try:\n",
    "        m = GroupedInteractiveFixedEffects(y, x, G, bootstrap, \"su_ju\", R=G, hide_progressbar=True).fit(\n",
    "            n_boot=n_boot, only_bfgs=True, max_iter=100, kappa=kappa, tol=1e-2, boot_n_jobs=1\n",
    "        )\n",
    "\n",
    "        return m.to_dict()\n",
    "    except Exception as err:\n",
    "        print(f\"Error: {err}\")\n",
    "        return None\n",
    "\n",
    "# runs = pickle.load(open(\"development/generated_data/dgp2_n100_t20_G3_k3.pkl\", \"rb\"))\n",
    "# sj_run(runs[0], 3, 0)"
   ]
  },
  {
   "cell_type": "code",
   "execution_count": null,
   "id": "8fdc2f4b",
   "metadata": {},
   "outputs": [
    {
     "name": "stdout",
     "output_type": "stream",
     "text": [
      "\n",
      "\n",
      "Running DGP2 (su_ju) with n=100, t=20, G=3, k=3\n"
     ]
    },
    {
     "name": "stderr",
     "output_type": "stream",
     "text": [
      "DGP2 n=100, t=20, G=3, k=3: 100%|██████████| 500/500 [1:27:26<00:00, 10.49s/it]\n"
     ]
    },
    {
     "name": "stdout",
     "output_type": "stream",
     "text": [
      "\n",
      "\n",
      "Running DGP2 (su_ju) with n=100, t=20, G=6, k=3\n"
     ]
    },
    {
     "name": "stderr",
     "output_type": "stream",
     "text": [
      "DGP2 n=100, t=20, G=6, k=3:  14%|█▍        | 70/500 [00:15<01:45,  4.08it/s]"
     ]
    },
    {
     "name": "stdout",
     "output_type": "stream",
     "text": [
      "Error: Singular matrix\n"
     ]
    },
    {
     "name": "stderr",
     "output_type": "stream",
     "text": [
      "DGP2 n=100, t=20, G=6, k=3: 100%|██████████| 500/500 [01:59<00:00,  4.20it/s]\n"
     ]
    },
    {
     "name": "stdout",
     "output_type": "stream",
     "text": [
      "\n",
      "\n",
      "Running DGP2 (su_ju) with n=100, t=50, G=3, k=3\n"
     ]
    },
    {
     "name": "stderr",
     "output_type": "stream",
     "text": [
      "DGP2 n=100, t=50, G=3, k=3: 100%|██████████| 500/500 [4:28:15<00:00, 32.19s/it]  \n"
     ]
    },
    {
     "name": "stdout",
     "output_type": "stream",
     "text": [
      "\n",
      "\n",
      "Running DGP2 (su_ju) with n=100, t=50, G=6, k=3\n"
     ]
    },
    {
     "name": "stderr",
     "output_type": "stream",
     "text": [
      "DGP2 n=100, t=50, G=6, k=3:  34%|███▍      | 170/500 [02:15<04:50,  1.14it/s]"
     ]
    },
    {
     "name": "stdout",
     "output_type": "stream",
     "text": [
      "Error: Singular matrix\n"
     ]
    },
    {
     "name": "stderr",
     "output_type": "stream",
     "text": [
      "DGP2 n=100, t=50, G=6, k=3:  82%|████████▏ | 410/500 [05:40<01:17,  1.15it/s]"
     ]
    },
    {
     "name": "stdout",
     "output_type": "stream",
     "text": [
      "Error: Singular matrix\n"
     ]
    },
    {
     "name": "stderr",
     "output_type": "stream",
     "text": [
      "DGP2 n=100, t=50, G=6, k=3: 100%|██████████| 500/500 [06:57<00:00,  1.20it/s]\n"
     ]
    },
    {
     "name": "stdout",
     "output_type": "stream",
     "text": [
      "\n",
      "\n",
      "Running DGP2 (su_ju) with n=200, t=20, G=3, k=3\n"
     ]
    },
    {
     "name": "stderr",
     "output_type": "stream",
     "text": [
      "DGP2 n=200, t=20, G=3, k=3: 100%|██████████| 500/500 [3:35:45<00:00, 25.89s/it]  \n"
     ]
    },
    {
     "name": "stdout",
     "output_type": "stream",
     "text": [
      "\n",
      "\n",
      "Running DGP2 (su_ju) with n=200, t=20, G=6, k=3\n"
     ]
    },
    {
     "name": "stderr",
     "output_type": "stream",
     "text": [
      "DGP2 n=200, t=20, G=6, k=3: 100%|██████████| 500/500 [05:17<00:00,  1.57it/s]\n"
     ]
    },
    {
     "name": "stdout",
     "output_type": "stream",
     "text": [
      "\n",
      "\n",
      "Running DGP2 (su_ju) with n=200, t=50, G=3, k=3\n"
     ]
    },
    {
     "name": "stderr",
     "output_type": "stream",
     "text": [
      "DGP2 n=200, t=50, G=3, k=3:  44%|████▍     | 220/500 [5:07:23<6:54:02, 88.72s/it] "
     ]
    }
   ],
   "source": [
    "for n in (100, 200):\n",
    "    for t in (20, 50):\n",
    "        for G in (3, 6):\n",
    "            for k in (3,):\n",
    "                output_path = f\"estimates/dgp2_n{n}_t{t}_G{G}_k{k}_su_ju_full.pkl\"\n",
    "                if os.path.exists(output_path):\n",
    "                    print(f\"Skipping DGP2 with n={n}, t={t}, G={G}, k={k} (already exists)\")\n",
    "                    continue\n",
    "                print(f\"\\n\\nRunning DGP2 (su_ju) with n={n}, t={t}, G={G}, k={k}\")\n",
    "                runs = pickle.load(open(f\"development/generated_data/dgp2_n{n}_t{t}_G{G}_k{k}.pkl\", \"rb\"))\n",
    "\n",
    "                estimates = Parallel(n_jobs=-1, prefer=\"processes\")(\n",
    "                    delayed(sj_run)(run, G, i)\n",
    "                    for i, run in enumerate(tqdm(runs, desc=f\"DGP2 n={n}, t={t}, G={G}, k={k}\"))\n",
    "                )\n",
    "\n",
    "                with open(output_path, \"wb\") as f:\n",
    "                    pickle.dump(estimates, f)"
   ]
  },
  {
   "cell_type": "markdown",
   "id": "e1be5cd7",
   "metadata": {},
   "source": [
    "# DGP 3 (SSJ)"
   ]
  },
  {
   "cell_type": "code",
   "execution_count": null,
   "id": "5b9f2fe8",
   "metadata": {},
   "outputs": [],
   "source": [
    "def ssp_run(run, G, i, kappa=0.005):\n",
    "    x, y, g = run\n",
    "    x = np.float32(x)\n",
    "    y = np.atleast_3d(np.float32(y))\n",
    "    n_boot = 100 if G < 4 else 50\n",
    "    # kappa = 0.005 if G < 4 else 0.00005\n",
    "    bootstrap = True if G < 4 else False\n",
    "    try:\n",
    "        m = GroupedFixedEffects(y, x, G, bootstrap, \"su_shi_phillips\", hide_progressbar=True).fit(\n",
    "            n_boot=n_boot, only_bfgs=False, max_iter=100, kappa=kappa, tol=1e-5, boot_n_jobs=1\n",
    "        )\n",
    "\n",
    "        return m.to_dict()\n",
    "    except Exception as err:\n",
    "        print(f\"Error: {err}\")\n",
    "        return None\n",
    "\n",
    "runs = pickle.load(open(\"development/generated_data/dgp3_n100_t20_G3_k3.pkl\", \"rb\"))\n",
    "ssp_run(runs[0], 3, 0)"
   ]
  },
  {
   "cell_type": "code",
   "execution_count": null,
   "id": "51c895ff",
   "metadata": {},
   "outputs": [],
   "source": [
    "for n in (100, 200):\n",
    "    for t in (20, 50):\n",
    "        for G in (3, 6):\n",
    "            for k in (3,):\n",
    "                output_path = f\"estimates/dgp3_n{n}_t{t}_G{G}_k{k}_full.pkl\"\n",
    "                if os.path.exists(output_path):\n",
    "                    print(f\"Skipping DGP3 with n={n}, t={t}, G={G}, k={k} (already exists)\")\n",
    "                    continue\n",
    "                print(f\"\\n\\nRunning DGP3 (su_shi_phillips) with n={n}, t={t}, G={G}, k={k}\")\n",
    "                runs = pickle.load(open(f\"development/generated_data/dgp3_n{n}_t{t}_G{G}_k{k}.pkl\", \"rb\"))\n",
    "                estimates = []\n",
    "                estimates = Parallel(n_jobs=-1, prefer=\"processes\")(\n",
    "                    delayed(ssp_run)(run, G, i) for i, run in enumerate(tqdm(runs, desc=f\"DGP2 n={n}, t={t}, G={G}, k={k}\"))\n",
    "                )\n",
    "                with open(output_path, \"wb\") as f:\n",
    "                    pickle.dump(estimates, f)"
   ]
  },
  {
   "cell_type": "code",
   "execution_count": null,
   "id": "bcf02b00",
   "metadata": {},
   "outputs": [],
   "source": [
    "from statsmodels.regression.linear_model import OLS\n",
    "from statsmodels.tools.tools import add_constant\n",
    "\n",
    "def ols(y, x):\n",
    "    \"\"\"\n",
    "    Fit an OLS model to the data and return the coefficients.\n",
    "    \"\"\"\n",
    "    model = OLS(y, add_constant(x))\n",
    "    results = model.fit()\n",
    "    return results.params[1:], results.conf_int(alpha=0.05)[1], results.bse[1:]\n",
    "\n",
    "def heterogeneous_ols(y, x):\n",
    "    \"\"\"\n",
    "    Fit an OLS model to the data and return the coefficients.\n",
    "    \"\"\"\n",
    "    est_array = np.zeros((x.shape[0], x.shape[2]))\n",
    "    conf_array = np.zeros((x.shape[0], x.shape[2], 2))\n",
    "    se_array = np.zeros((x.shape[0], x.shape[2]))\n",
    "\n",
    "    for i in range(len(x)):\n",
    "        est, conf, se = ols(y[i], x[i])\n",
    "        est_array[i] = est\n",
    "        conf_array[i] = conf\n",
    "        se_array[i] = se\n",
    "\n",
    "    return est_array, conf_array, se_array"
   ]
  },
  {
   "cell_type": "code",
   "execution_count": null,
   "id": "754cb5d0",
   "metadata": {},
   "outputs": [],
   "source": [
    "runs = pickle.load(open(\"development/generated_data/dgp1_n100_t20_G3_k3.pkl\", \"rb\"))\n",
    "\n",
    "estimates = []\n",
    "for run in tqdm(runs[:200]):\n",
    "    x = np.float32(runs[0][0])\n",
    "    y = np.float32(runs[0][1])\n",
    "\n",
    "    estimates.append(heterogeneous_ols(y, x))\n",
    "\n",
    "output_path = \"estimates/dgp1_n100_t20_G3_k3_ols.pkl\"\n",
    "with open(output_path, \"wb\") as f:\n",
    "    pickle.dump(estimates, f)"
   ]
  },
  {
   "cell_type": "code",
   "execution_count": null,
   "id": "dbce6658",
   "metadata": {},
   "outputs": [],
   "source": [
    "def heterogeneous_ols_run(dgp, n, t, G, k):\n",
    "    runs = pickle.load(open(f\"development/generated_data/dgp{dgp}_n{n}_t{t}_G{G}_k{k}.pkl\", \"rb\"))\n",
    "\n",
    "    def _run_single_estimation(run):\n",
    "        x = np.float64(run[0])\n",
    "        y = np.float64(run[1])\n",
    "        return heterogeneous_ols(y, x)\n",
    "\n",
    "    # Wrap tqdm around the iterator to preserve the progress bar\n",
    "    estimates = Parallel(n_jobs=-1)(\n",
    "        delayed(_run_single_estimation)(run) for run in tqdm(runs)\n",
    "    )\n",
    "\n",
    "    output_path = f\"estimates/dgp{dgp}_n{n}_t{t}_G{G}_k{k}_ols.pkl\"\n",
    "    with open(output_path, \"wb\") as f:\n",
    "        pickle.dump(estimates, f)"
   ]
  },
  {
   "cell_type": "code",
   "execution_count": null,
   "id": "6b21216a",
   "metadata": {},
   "outputs": [],
   "source": [
    "for dgp in (1, 2, 3):\n",
    "    for n in (100, 200):\n",
    "        for t in (20, 50):\n",
    "            for G in (3, 6):\n",
    "                for k in (3,):\n",
    "                    heterogeneous_ols_run(dgp, n, t, G, k)"
   ]
  },
  {
   "cell_type": "markdown",
   "id": "6ac3bea6",
   "metadata": {},
   "source": [
    "## IC"
   ]
  },
  {
   "cell_type": "code",
   "execution_count": null,
   "id": "e1bc893f",
   "metadata": {},
   "outputs": [],
   "source": [
    "import contextlib\n",
    "import pandas as pd"
   ]
  },
  {
   "cell_type": "code",
   "execution_count": null,
   "id": "cb731ae2",
   "metadata": {},
   "outputs": [
    {
     "data": {
      "text/plain": [
       "True"
      ]
     },
     "execution_count": 4,
     "metadata": {},
     "output_type": "execute_result"
    }
   ],
   "source": [
    "def bm_ic(run, G_true, i):\n",
    "    x, y, f, g = run\n",
    "    x = np.float32(x)\n",
    "    y = np.atleast_3d(np.float32(y))\n",
    "    f = np.float32(f)\n",
    "    gfe_iterations = 10 if G_true < 4 else 100\n",
    "    n_boot = 200 if G_true < 4 else 100\n",
    "    bootstrap = True if G_true < 4 else False\n",
    "    try:\n",
    "        # m = GroupedFixedEffects(y, x, G_true, bootstrap, hide_progressbar=False).fit(\n",
    "        #     max_iter=100, gfe_iterations=gfe_iterations, n_boot=n_boot, boot_n_jobs=1)\n",
    "        with open(os.devnull, 'w') as devnull:\n",
    "            with contextlib.redirect_stdout(devnull), contextlib.redirect_stderr(devnull):\n",
    "                return grid_search_by_ic(GroupedFixedEffects, {\"G\": [2, 3, 4, 5, 6, 7, 8]}, init_params={\"dependent\": y, \"exog\": x, \"bootstrap\": bootstrap, \"hide_progressbar\": False}, fit_params={\"max_iter\": 100, \"gfe_iterations\": gfe_iterations, \"n_boot\": n_boot, \"boot_n_jobs\": 1})[2][\"G\"]\n",
    "    except Exception as e:\n",
    "        print(f\"Error in run {i}: {e}\")\n",
    "        return np.nan\n",
    "\n",
    "runs = pickle.load(open(\"development/generated_data/dgp1_n100_t20_G3_k3.pkl\", \"rb\"))\n",
    "bm_ic(runs[0], 3, 0)"
   ]
  },
  {
   "cell_type": "code",
   "execution_count": null,
   "id": "50283d6e",
   "metadata": {},
   "outputs": [
    {
     "name": "stdout",
     "output_type": "stream",
     "text": [
      "\n",
      "\n",
      "Running DGP1 with n=100, t=20, G=3, k=3\n"
     ]
    },
    {
     "name": "stderr",
     "output_type": "stream",
     "text": [
      "DGP1 n=100, t=20, G=3, k=3: 100%|██████████| 200/200 [00:12<00:00, 15.77it/s]\n"
     ]
    },
    {
     "name": "stdout",
     "output_type": "stream",
     "text": [
      "Proportion of correct G estimates 100, 20, 3, 3: 1.0\n",
      "\\begin{tabular}{lrrrrr}\n",
      "\\toprule\n",
      " & n & t & G & k & proportion_correct \\\\\n",
      "\\midrule\n",
      "0 & 100 & 20 & 3 & 3 & 1.000000 \\\\\n",
      "\\bottomrule\n",
      "\\end{tabular}\n",
      "\n"
     ]
    }
   ],
   "source": [
    "res = []\n",
    "for n in (100, 200):\n",
    "    for t in (20, 50):\n",
    "        for G in (3, 6):\n",
    "            for k in (3,):\n",
    "                print(f\"\\n\\nRunning DGP1 with n={n}, t={t}, G={G}, k={k}\")\n",
    "                runs = pickle.load(open(f\"development/generated_data/dgp1_n{n}_t{t}_G{G}_k{k}.pkl\", \"rb\"))\n",
    "\n",
    "                # Wrap the iterable in tqdm to get a progress bar\n",
    "                estimates = Parallel(n_jobs=-1, prefer=\"processes\")(\n",
    "                    delayed(bm_ic)(run, G, i)\n",
    "                    for i, run in tqdm(enumerate(runs), total=500, desc=f\"DGP1 n={n}, t={t}, G={G}, k={k}\")\n",
    "                )\n",
    "\n",
    "                estimates = np.array(estimates)\n",
    "                proportion_correct = np.mean(estimates == G)\n",
    "                values = np.array([2, 3, 4, 5, 6, 7, 8])\n",
    "                value_count = np.array([(estimates == val).sum() for val in values])\n",
    "\n",
    "                # with open(output_path, \"wb\") as f:\n",
    "                #     pickle.dump(estimates, f)\n",
    "                print(f\"Proportion of correct G estimates {n}, {t}, {G}, {k}: {proportion_correct:.2f}\")\n",
    "                res.append((n, t, G, k, proportion_correct, *value_count))\n",
    "\n",
    "print(\n",
    "    pd.DataFrame(res, columns=[\"n\", \"t\", \"G\", \"k\", \"proportion_correct\", \"2\", \"3\", \"4\", \"5\", \"6\", \"7\", \"8\"]).to_latex()\n",
    ")"
   ]
  },
  {
   "cell_type": "code",
   "execution_count": null,
   "id": "fea3b66c",
   "metadata": {},
   "outputs": [
    {
     "data": {
      "text/plain": [
       "True"
      ]
     },
     "execution_count": 7,
     "metadata": {},
     "output_type": "execute_result"
    }
   ],
   "source": [
    "def ab_ic(run, G_true, i):\n",
    "    x, y, f, g, *_ = run\n",
    "    x = np.float32(x)\n",
    "    y = np.atleast_3d(np.float32(y))\n",
    "    f = np.float32(f)\n",
    "    gife_iterations = 10 if G < 4 else 100\n",
    "    n_boot = 200 if G < 4 else 100\n",
    "    bootstrap = True if G < 4 else False\n",
    "    try:\n",
    "        with open(os.devnull, 'w') as devnull:\n",
    "            with contextlib.redirect_stdout(devnull), contextlib.redirect_stderr(devnull):\n",
    "                return grid_search_by_ic(GroupedInteractiveFixedEffects, {\"G\": [2, 3, 4, 5, 6, 7, 8]}, init_params={\"dependent\": y, \"exog\": x, \"bootstrap\": bootstrap, \"hide_progressbar\": False}, fit_params={\"max_iter\": 100, \"gife_iterations\": gife_iterations, \"n_boot\": n_boot, \"boot_n_jobs\": 1})[2][\"G\"]\n",
    "    except Exception as e:\n",
    "        print(f\"Error in run {i}: {e}\")\n",
    "        return np.nan\n",
    "\n",
    "\n",
    "runs = pickle.load(open(\"development/generated_data/dgp2_n100_t20_G3_k3.pkl\", \"rb\"))\n",
    "ab_ic(runs[0], 3, 0)"
   ]
  },
  {
   "cell_type": "code",
   "execution_count": null,
   "id": "6f54818b",
   "metadata": {},
   "outputs": [
    {
     "name": "stdout",
     "output_type": "stream",
     "text": [
      "\n",
      "\n",
      "Running DGP2 with n=100, t=20, G=3, k=3\n"
     ]
    },
    {
     "name": "stderr",
     "output_type": "stream",
     "text": [
      "DGP1 n=100, t=20, G=3, k=3: 100%|██████████| 200/200 [01:07<00:00,  2.97it/s]\n"
     ]
    },
    {
     "name": "stdout",
     "output_type": "stream",
     "text": [
      "Proportion of correct G estimates 100, 20, 3, 3: 1.0\n",
      "\n",
      "\n",
      "Running DGP2 with n=100, t=20, G=6, k=3\n"
     ]
    },
    {
     "name": "stderr",
     "output_type": "stream",
     "text": []
    },
    {
     "ename": "KeyboardInterrupt",
     "evalue": "",
     "output_type": "error",
     "traceback": [
      "\u001b[31m---------------------------------------------------------------------------\u001b[39m",
      "\u001b[31mKeyboardInterrupt\u001b[39m                         Traceback (most recent call last)",
      "\u001b[36mCell\u001b[39m\u001b[36m \u001b[39m\u001b[32mIn[8]\u001b[39m\u001b[32m, line 10\u001b[39m\n\u001b[32m      7\u001b[39m runs = pickle.load(\u001b[38;5;28mopen\u001b[39m(\u001b[33mf\u001b[39m\u001b[33m\"\u001b[39m\u001b[33mdevelopment/generated_data/dgp2_n\u001b[39m\u001b[38;5;132;01m{\u001b[39;00mn\u001b[38;5;132;01m}\u001b[39;00m\u001b[33m_t\u001b[39m\u001b[38;5;132;01m{\u001b[39;00mt\u001b[38;5;132;01m}\u001b[39;00m\u001b[33m_G\u001b[39m\u001b[38;5;132;01m{\u001b[39;00mG\u001b[38;5;132;01m}\u001b[39;00m\u001b[33m_k\u001b[39m\u001b[38;5;132;01m{\u001b[39;00mk\u001b[38;5;132;01m}\u001b[39;00m\u001b[33m.pkl\u001b[39m\u001b[33m\"\u001b[39m, \u001b[33m\"\u001b[39m\u001b[33mrb\u001b[39m\u001b[33m\"\u001b[39m))\n\u001b[32m      9\u001b[39m \u001b[38;5;66;03m# Wrap the iterable in tqdm to get a progress bar\u001b[39;00m\n\u001b[32m---> \u001b[39m\u001b[32m10\u001b[39m estimates = \u001b[43mParallel\u001b[49m\u001b[43m(\u001b[49m\u001b[43mn_jobs\u001b[49m\u001b[43m=\u001b[49m\u001b[43m-\u001b[49m\u001b[32;43m1\u001b[39;49m\u001b[43m,\u001b[49m\u001b[43m \u001b[49m\u001b[43mprefer\u001b[49m\u001b[43m=\u001b[49m\u001b[33;43m\"\u001b[39;49m\u001b[33;43mprocesses\u001b[39;49m\u001b[33;43m\"\u001b[39;49m\u001b[43m)\u001b[49m\u001b[43m(\u001b[49m\n\u001b[32m     11\u001b[39m \u001b[43m    \u001b[49m\u001b[43mdelayed\u001b[49m\u001b[43m(\u001b[49m\u001b[43mab_ic\u001b[49m\u001b[43m)\u001b[49m\u001b[43m(\u001b[49m\u001b[43mrun\u001b[49m\u001b[43m,\u001b[49m\u001b[43m \u001b[49m\u001b[43mG\u001b[49m\u001b[43m,\u001b[49m\u001b[43m \u001b[49m\u001b[43mi\u001b[49m\u001b[43m)\u001b[49m\n\u001b[32m     12\u001b[39m \u001b[43m    \u001b[49m\u001b[38;5;28;43;01mfor\u001b[39;49;00m\u001b[43m \u001b[49m\u001b[43mi\u001b[49m\u001b[43m,\u001b[49m\u001b[43m \u001b[49m\u001b[43mrun\u001b[49m\u001b[43m \u001b[49m\u001b[38;5;129;43;01min\u001b[39;49;00m\u001b[43m \u001b[49m\u001b[43mtqdm\u001b[49m\u001b[43m(\u001b[49m\u001b[38;5;28;43menumerate\u001b[39;49m\u001b[43m(\u001b[49m\u001b[43mruns\u001b[49m\u001b[43m[\u001b[49m\u001b[43m:\u001b[49m\u001b[32;43m200\u001b[39;49m\u001b[43m]\u001b[49m\u001b[43m)\u001b[49m\u001b[43m,\u001b[49m\u001b[43m \u001b[49m\u001b[43mtotal\u001b[49m\u001b[43m=\u001b[49m\u001b[32;43m200\u001b[39;49m\u001b[43m,\u001b[49m\u001b[43m \u001b[49m\u001b[43mdesc\u001b[49m\u001b[43m=\u001b[49m\u001b[33;43mf\u001b[39;49m\u001b[33;43m\"\u001b[39;49m\u001b[33;43mDGP1 n=\u001b[39;49m\u001b[38;5;132;43;01m{\u001b[39;49;00m\u001b[43mn\u001b[49m\u001b[38;5;132;43;01m}\u001b[39;49;00m\u001b[33;43m, t=\u001b[39;49m\u001b[38;5;132;43;01m{\u001b[39;49;00m\u001b[43mt\u001b[49m\u001b[38;5;132;43;01m}\u001b[39;49;00m\u001b[33;43m, G=\u001b[39;49m\u001b[38;5;132;43;01m{\u001b[39;49;00m\u001b[43mG\u001b[49m\u001b[38;5;132;43;01m}\u001b[39;49;00m\u001b[33;43m, k=\u001b[39;49m\u001b[38;5;132;43;01m{\u001b[39;49;00m\u001b[43mk\u001b[49m\u001b[38;5;132;43;01m}\u001b[39;49;00m\u001b[33;43m\"\u001b[39;49m\u001b[43m)\u001b[49m\n\u001b[32m     13\u001b[39m \u001b[43m\u001b[49m\u001b[43m)\u001b[49m\n\u001b[32m     15\u001b[39m \u001b[38;5;66;03m# with open(output_path, \"wb\") as f:\u001b[39;00m\n\u001b[32m     16\u001b[39m \u001b[38;5;66;03m#     pickle.dump(estimates, f)\u001b[39;00m\n\u001b[32m     17\u001b[39m \u001b[38;5;28mprint\u001b[39m(\u001b[33mf\u001b[39m\u001b[33m\"\u001b[39m\u001b[33mProportion of correct G estimates \u001b[39m\u001b[38;5;132;01m{\u001b[39;00mn\u001b[38;5;132;01m}\u001b[39;00m\u001b[33m, \u001b[39m\u001b[38;5;132;01m{\u001b[39;00mt\u001b[38;5;132;01m}\u001b[39;00m\u001b[33m, \u001b[39m\u001b[38;5;132;01m{\u001b[39;00mG\u001b[38;5;132;01m}\u001b[39;00m\u001b[33m, \u001b[39m\u001b[38;5;132;01m{\u001b[39;00mk\u001b[38;5;132;01m}\u001b[39;00m\u001b[33m: \u001b[39m\u001b[38;5;132;01m{\u001b[39;00mnp.mean(estimates)\u001b[38;5;132;01m}\u001b[39;00m\u001b[33m\"\u001b[39m)\n",
      "\u001b[36mFile \u001b[39m\u001b[32m/Library/Frameworks/Python.framework/Versions/3.13/lib/python3.13/site-packages/joblib/parallel.py:2007\u001b[39m, in \u001b[36mParallel.__call__\u001b[39m\u001b[34m(self, iterable)\u001b[39m\n\u001b[32m   2001\u001b[39m \u001b[38;5;66;03m# The first item from the output is blank, but it makes the interpreter\u001b[39;00m\n\u001b[32m   2002\u001b[39m \u001b[38;5;66;03m# progress until it enters the Try/Except block of the generator and\u001b[39;00m\n\u001b[32m   2003\u001b[39m \u001b[38;5;66;03m# reaches the first `yield` statement. This starts the asynchronous\u001b[39;00m\n\u001b[32m   2004\u001b[39m \u001b[38;5;66;03m# dispatch of the tasks to the workers.\u001b[39;00m\n\u001b[32m   2005\u001b[39m \u001b[38;5;28mnext\u001b[39m(output)\n\u001b[32m-> \u001b[39m\u001b[32m2007\u001b[39m \u001b[38;5;28;01mreturn\u001b[39;00m output \u001b[38;5;28;01mif\u001b[39;00m \u001b[38;5;28mself\u001b[39m.return_generator \u001b[38;5;28;01melse\u001b[39;00m \u001b[38;5;28;43mlist\u001b[39;49m\u001b[43m(\u001b[49m\u001b[43moutput\u001b[49m\u001b[43m)\u001b[49m\n",
      "\u001b[36mFile \u001b[39m\u001b[32m/Library/Frameworks/Python.framework/Versions/3.13/lib/python3.13/site-packages/joblib/parallel.py:1650\u001b[39m, in \u001b[36mParallel._get_outputs\u001b[39m\u001b[34m(self, iterator, pre_dispatch)\u001b[39m\n\u001b[32m   1647\u001b[39m     \u001b[38;5;28;01myield\u001b[39;00m\n\u001b[32m   1649\u001b[39m     \u001b[38;5;28;01mwith\u001b[39;00m \u001b[38;5;28mself\u001b[39m._backend.retrieval_context():\n\u001b[32m-> \u001b[39m\u001b[32m1650\u001b[39m         \u001b[38;5;28;01myield from\u001b[39;00m \u001b[38;5;28mself\u001b[39m._retrieve()\n\u001b[32m   1652\u001b[39m \u001b[38;5;28;01mexcept\u001b[39;00m \u001b[38;5;167;01mGeneratorExit\u001b[39;00m:\n\u001b[32m   1653\u001b[39m     \u001b[38;5;66;03m# The generator has been garbage collected before being fully\u001b[39;00m\n\u001b[32m   1654\u001b[39m     \u001b[38;5;66;03m# consumed. This aborts the remaining tasks if possible and warn\u001b[39;00m\n\u001b[32m   1655\u001b[39m     \u001b[38;5;66;03m# the user if necessary.\u001b[39;00m\n\u001b[32m   1656\u001b[39m     \u001b[38;5;28mself\u001b[39m._exception = \u001b[38;5;28;01mTrue\u001b[39;00m\n",
      "\u001b[36mFile \u001b[39m\u001b[32m/Library/Frameworks/Python.framework/Versions/3.13/lib/python3.13/site-packages/joblib/parallel.py:1762\u001b[39m, in \u001b[36mParallel._retrieve\u001b[39m\u001b[34m(self)\u001b[39m\n\u001b[32m   1757\u001b[39m \u001b[38;5;66;03m# If the next job is not ready for retrieval yet, we just wait for\u001b[39;00m\n\u001b[32m   1758\u001b[39m \u001b[38;5;66;03m# async callbacks to progress.\u001b[39;00m\n\u001b[32m   1759\u001b[39m \u001b[38;5;28;01mif\u001b[39;00m ((\u001b[38;5;28mlen\u001b[39m(\u001b[38;5;28mself\u001b[39m._jobs) == \u001b[32m0\u001b[39m) \u001b[38;5;129;01mor\u001b[39;00m\n\u001b[32m   1760\u001b[39m     (\u001b[38;5;28mself\u001b[39m._jobs[\u001b[32m0\u001b[39m].get_status(\n\u001b[32m   1761\u001b[39m         timeout=\u001b[38;5;28mself\u001b[39m.timeout) == TASK_PENDING)):\n\u001b[32m-> \u001b[39m\u001b[32m1762\u001b[39m     \u001b[43mtime\u001b[49m\u001b[43m.\u001b[49m\u001b[43msleep\u001b[49m\u001b[43m(\u001b[49m\u001b[32;43m0.01\u001b[39;49m\u001b[43m)\u001b[49m\n\u001b[32m   1763\u001b[39m     \u001b[38;5;28;01mcontinue\u001b[39;00m\n\u001b[32m   1765\u001b[39m \u001b[38;5;66;03m# We need to be careful: the job list can be filling up as\u001b[39;00m\n\u001b[32m   1766\u001b[39m \u001b[38;5;66;03m# we empty it and Python list are not thread-safe by\u001b[39;00m\n\u001b[32m   1767\u001b[39m \u001b[38;5;66;03m# default hence the use of the lock\u001b[39;00m\n",
      "\u001b[31mKeyboardInterrupt\u001b[39m: "
     ]
    }
   ],
   "source": [
    "res = []\n",
    "for n in (100, 200):\n",
    "    for t in (20, 50):\n",
    "        for G in (3, 6):\n",
    "            for k in (3,):\n",
    "                print(f\"\\n\\nRunning DGP2 with n={n}, t={t}, G={G}, k={k}\")\n",
    "                runs = pickle.load(open(f\"development/generated_data/dgp2_n{n}_t{t}_G{G}_k{k}.pkl\", \"rb\"))\n",
    "\n",
    "                # Wrap the iterable in tqdm to get a progress bar\n",
    "                estimates = Parallel(n_jobs=-1, prefer=\"processes\")(\n",
    "                    delayed(ab_ic)(run, G, i)\n",
    "                    for i, run in tqdm(enumerate(runs), total=500, desc=f\"DGP2 n={n}, t={t}, G={G}, k={k}\")\n",
    "                )\n",
    "\n",
    "                estimates = np.array(estimates)\n",
    "                proportion_correct = np.mean(estimates == G)\n",
    "                values = np.array([2, 3, 4, 5, 6, 7, 8])\n",
    "                value_count = np.array([(estimates == val).sum() for val in values])\n",
    "\n",
    "                # with open(output_path, \"wb\") as f:\n",
    "                #     pickle.dump(estimates, f)\n",
    "                print(f\"Proportion of correct G estimates {n}, {t}, {G}, {k}: {proportion_correct:.2f}\")\n",
    "                res.append((n, t, G, k, proportion_correct, *value_count))\n",
    "\n",
    "print(\n",
    "    pd.DataFrame(res, columns=[\"n\", \"t\", \"G\", \"k\", \"proportion_correct\", \"2\", \"3\", \"4\", \"5\", \"6\", \"7\", \"8\"]).to_latex()\n",
    ")"
   ]
  },
  {
   "cell_type": "code",
   "execution_count": null,
   "id": "be7987af",
   "metadata": {},
   "outputs": [
    {
     "data": {
      "text/plain": [
       "False"
      ]
     },
     "execution_count": 12,
     "metadata": {},
     "output_type": "execute_result"
    }
   ],
   "source": [
    "def sj_ic(run, G_true, i):\n",
    "    x, y, f, g, *_ = run\n",
    "    x = np.float32(x)\n",
    "    y = np.atleast_3d(np.float32(y))\n",
    "    f = np.float32(f)\n",
    "    n_boot = 100 if G_true < 4 else 50\n",
    "    kappa = 0.005 if G_true < 4 else 0.00005\n",
    "    bootstrap = True if G_true < 4 else False\n",
    "    try:\n",
    "        with open(os.devnull, \"w\") as devnull:\n",
    "            with contextlib.redirect_stdout(devnull), contextlib.redirect_stderr(devnull):\n",
    "                return (\n",
    "                    grid_search_by_ic(\n",
    "                        GroupedInteractiveFixedEffects,\n",
    "                        {\"G\": [2, 3, 4, 5, 6, 7, 8]},\n",
    "                        init_params={\n",
    "                            \"dependent\": y,\n",
    "                            \"exog\": x,\n",
    "                            \"bootstrap\": bootstrap,\n",
    "                            \"model\": \"su_ju\",\n",
    "                            \"hide_progressbar\": False,\n",
    "                        },\n",
    "                        fit_params={\n",
    "                            \"n_boot\": n_boot,\n",
    "                            \"only_bfgs\": True,\n",
    "                            \"max_iter\": 100,\n",
    "                            \"kappa\": kappa,\n",
    "                            \"tol\": 1e-2,\n",
    "                            \"boot_n_jobs\": 1,\n",
    "                        },\n",
    "                    )[2][\"G\"]\n",
    "                )\n",
    "    except Exception as err:\n",
    "        print(f\"Error in run {i}: {err}\")\n",
    "        return np.nan\n",
    "\n",
    "# runs = pickle.load(open(\"development/generated_data/dgp2_n100_t20_G3_k3.pkl\", \"rb\"))\n",
    "# sj_ic(runs[0], 3, 0)"
   ]
  },
  {
   "cell_type": "code",
   "execution_count": null,
   "id": "845bbad7",
   "metadata": {},
   "outputs": [
    {
     "name": "stdout",
     "output_type": "stream",
     "text": [
      "\n",
      "\n",
      "Running DGP2 with n=100, t=20, G=3, k=3\n"
     ]
    },
    {
     "name": "stderr",
     "output_type": "stream",
     "text": [
      "DGP1 n=100, t=20, G=3, k=3: 100%|██████████| 200/200 [03:08<00:00,  1.06it/s]\n"
     ]
    },
    {
     "name": "stdout",
     "output_type": "stream",
     "text": [
      "Proportion of correct G estimates 100, 20, 3, 3: 0.995\n",
      "\n",
      "\n",
      "Running DGP2 with n=100, t=20, G=6, k=3\n"
     ]
    },
    {
     "name": "stderr",
     "output_type": "stream",
     "text": [
      "DGP1 n=100, t=20, G=6, k=3:  40%|████      | 80/200 [00:36<01:01,  1.97it/s]"
     ]
    },
    {
     "ename": "KeyboardInterrupt",
     "evalue": "",
     "output_type": "error",
     "traceback": [
      "\u001b[31m---------------------------------------------------------------------------\u001b[39m",
      "\u001b[31mKeyboardInterrupt\u001b[39m                         Traceback (most recent call last)",
      "\u001b[36mCell\u001b[39m\u001b[36m \u001b[39m\u001b[32mIn[13]\u001b[39m\u001b[32m, line 10\u001b[39m\n\u001b[32m      7\u001b[39m runs = pickle.load(\u001b[38;5;28mopen\u001b[39m(\u001b[33mf\u001b[39m\u001b[33m\"\u001b[39m\u001b[33mdevelopment/generated_data/dgp2_n\u001b[39m\u001b[38;5;132;01m{\u001b[39;00mn\u001b[38;5;132;01m}\u001b[39;00m\u001b[33m_t\u001b[39m\u001b[38;5;132;01m{\u001b[39;00mt\u001b[38;5;132;01m}\u001b[39;00m\u001b[33m_G\u001b[39m\u001b[38;5;132;01m{\u001b[39;00mG\u001b[38;5;132;01m}\u001b[39;00m\u001b[33m_k\u001b[39m\u001b[38;5;132;01m{\u001b[39;00mk\u001b[38;5;132;01m}\u001b[39;00m\u001b[33m.pkl\u001b[39m\u001b[33m\"\u001b[39m, \u001b[33m\"\u001b[39m\u001b[33mrb\u001b[39m\u001b[33m\"\u001b[39m))\n\u001b[32m      9\u001b[39m \u001b[38;5;66;03m# Wrap the iterable in tqdm to get a progress bar\u001b[39;00m\n\u001b[32m---> \u001b[39m\u001b[32m10\u001b[39m estimates = \u001b[43mParallel\u001b[49m\u001b[43m(\u001b[49m\u001b[43mn_jobs\u001b[49m\u001b[43m=\u001b[49m\u001b[43m-\u001b[49m\u001b[32;43m1\u001b[39;49m\u001b[43m,\u001b[49m\u001b[43m \u001b[49m\u001b[43mprefer\u001b[49m\u001b[43m=\u001b[49m\u001b[33;43m\"\u001b[39;49m\u001b[33;43mprocesses\u001b[39;49m\u001b[33;43m\"\u001b[39;49m\u001b[43m)\u001b[49m\u001b[43m(\u001b[49m\n\u001b[32m     11\u001b[39m \u001b[43m    \u001b[49m\u001b[43mdelayed\u001b[49m\u001b[43m(\u001b[49m\u001b[43msj_ic\u001b[49m\u001b[43m)\u001b[49m\u001b[43m(\u001b[49m\u001b[43mrun\u001b[49m\u001b[43m,\u001b[49m\u001b[43m \u001b[49m\u001b[43mG\u001b[49m\u001b[43m,\u001b[49m\u001b[43m \u001b[49m\u001b[43mi\u001b[49m\u001b[43m)\u001b[49m\n\u001b[32m     12\u001b[39m \u001b[43m    \u001b[49m\u001b[38;5;28;43;01mfor\u001b[39;49;00m\u001b[43m \u001b[49m\u001b[43mi\u001b[49m\u001b[43m,\u001b[49m\u001b[43m \u001b[49m\u001b[43mrun\u001b[49m\u001b[43m \u001b[49m\u001b[38;5;129;43;01min\u001b[39;49;00m\u001b[43m \u001b[49m\u001b[43mtqdm\u001b[49m\u001b[43m(\u001b[49m\u001b[38;5;28;43menumerate\u001b[39;49m\u001b[43m(\u001b[49m\u001b[43mruns\u001b[49m\u001b[43m[\u001b[49m\u001b[43m:\u001b[49m\u001b[32;43m200\u001b[39;49m\u001b[43m]\u001b[49m\u001b[43m)\u001b[49m\u001b[43m,\u001b[49m\u001b[43m \u001b[49m\u001b[43mtotal\u001b[49m\u001b[43m=\u001b[49m\u001b[32;43m200\u001b[39;49m\u001b[43m,\u001b[49m\u001b[43m \u001b[49m\u001b[43mdesc\u001b[49m\u001b[43m=\u001b[49m\u001b[33;43mf\u001b[39;49m\u001b[33;43m\"\u001b[39;49m\u001b[33;43mDGP1 n=\u001b[39;49m\u001b[38;5;132;43;01m{\u001b[39;49;00m\u001b[43mn\u001b[49m\u001b[38;5;132;43;01m}\u001b[39;49;00m\u001b[33;43m, t=\u001b[39;49m\u001b[38;5;132;43;01m{\u001b[39;49;00m\u001b[43mt\u001b[49m\u001b[38;5;132;43;01m}\u001b[39;49;00m\u001b[33;43m, G=\u001b[39;49m\u001b[38;5;132;43;01m{\u001b[39;49;00m\u001b[43mG\u001b[49m\u001b[38;5;132;43;01m}\u001b[39;49;00m\u001b[33;43m, k=\u001b[39;49m\u001b[38;5;132;43;01m{\u001b[39;49;00m\u001b[43mk\u001b[49m\u001b[38;5;132;43;01m}\u001b[39;49;00m\u001b[33;43m\"\u001b[39;49m\u001b[43m)\u001b[49m\n\u001b[32m     13\u001b[39m \u001b[43m\u001b[49m\u001b[43m)\u001b[49m\n\u001b[32m     15\u001b[39m \u001b[38;5;66;03m# with open(output_path, \"wb\") as f:\u001b[39;00m\n\u001b[32m     16\u001b[39m \u001b[38;5;66;03m#     pickle.dump(estimates, f)\u001b[39;00m\n\u001b[32m     17\u001b[39m \u001b[38;5;28mprint\u001b[39m(\u001b[33mf\u001b[39m\u001b[33m\"\u001b[39m\u001b[33mProportion of correct G estimates \u001b[39m\u001b[38;5;132;01m{\u001b[39;00mn\u001b[38;5;132;01m}\u001b[39;00m\u001b[33m, \u001b[39m\u001b[38;5;132;01m{\u001b[39;00mt\u001b[38;5;132;01m}\u001b[39;00m\u001b[33m, \u001b[39m\u001b[38;5;132;01m{\u001b[39;00mG\u001b[38;5;132;01m}\u001b[39;00m\u001b[33m, \u001b[39m\u001b[38;5;132;01m{\u001b[39;00mk\u001b[38;5;132;01m}\u001b[39;00m\u001b[33m: \u001b[39m\u001b[38;5;132;01m{\u001b[39;00mnp.mean(estimates)\u001b[38;5;132;01m}\u001b[39;00m\u001b[33m\"\u001b[39m)\n",
      "\u001b[36mFile \u001b[39m\u001b[32m/Library/Frameworks/Python.framework/Versions/3.13/lib/python3.13/site-packages/joblib/parallel.py:2007\u001b[39m, in \u001b[36mParallel.__call__\u001b[39m\u001b[34m(self, iterable)\u001b[39m\n\u001b[32m   2001\u001b[39m \u001b[38;5;66;03m# The first item from the output is blank, but it makes the interpreter\u001b[39;00m\n\u001b[32m   2002\u001b[39m \u001b[38;5;66;03m# progress until it enters the Try/Except block of the generator and\u001b[39;00m\n\u001b[32m   2003\u001b[39m \u001b[38;5;66;03m# reaches the first `yield` statement. This starts the asynchronous\u001b[39;00m\n\u001b[32m   2004\u001b[39m \u001b[38;5;66;03m# dispatch of the tasks to the workers.\u001b[39;00m\n\u001b[32m   2005\u001b[39m \u001b[38;5;28mnext\u001b[39m(output)\n\u001b[32m-> \u001b[39m\u001b[32m2007\u001b[39m \u001b[38;5;28;01mreturn\u001b[39;00m output \u001b[38;5;28;01mif\u001b[39;00m \u001b[38;5;28mself\u001b[39m.return_generator \u001b[38;5;28;01melse\u001b[39;00m \u001b[38;5;28;43mlist\u001b[39;49m\u001b[43m(\u001b[49m\u001b[43moutput\u001b[49m\u001b[43m)\u001b[49m\n",
      "\u001b[36mFile \u001b[39m\u001b[32m/Library/Frameworks/Python.framework/Versions/3.13/lib/python3.13/site-packages/joblib/parallel.py:1650\u001b[39m, in \u001b[36mParallel._get_outputs\u001b[39m\u001b[34m(self, iterator, pre_dispatch)\u001b[39m\n\u001b[32m   1647\u001b[39m     \u001b[38;5;28;01myield\u001b[39;00m\n\u001b[32m   1649\u001b[39m     \u001b[38;5;28;01mwith\u001b[39;00m \u001b[38;5;28mself\u001b[39m._backend.retrieval_context():\n\u001b[32m-> \u001b[39m\u001b[32m1650\u001b[39m         \u001b[38;5;28;01myield from\u001b[39;00m \u001b[38;5;28mself\u001b[39m._retrieve()\n\u001b[32m   1652\u001b[39m \u001b[38;5;28;01mexcept\u001b[39;00m \u001b[38;5;167;01mGeneratorExit\u001b[39;00m:\n\u001b[32m   1653\u001b[39m     \u001b[38;5;66;03m# The generator has been garbage collected before being fully\u001b[39;00m\n\u001b[32m   1654\u001b[39m     \u001b[38;5;66;03m# consumed. This aborts the remaining tasks if possible and warn\u001b[39;00m\n\u001b[32m   1655\u001b[39m     \u001b[38;5;66;03m# the user if necessary.\u001b[39;00m\n\u001b[32m   1656\u001b[39m     \u001b[38;5;28mself\u001b[39m._exception = \u001b[38;5;28;01mTrue\u001b[39;00m\n",
      "\u001b[36mFile \u001b[39m\u001b[32m/Library/Frameworks/Python.framework/Versions/3.13/lib/python3.13/site-packages/joblib/parallel.py:1762\u001b[39m, in \u001b[36mParallel._retrieve\u001b[39m\u001b[34m(self)\u001b[39m\n\u001b[32m   1757\u001b[39m \u001b[38;5;66;03m# If the next job is not ready for retrieval yet, we just wait for\u001b[39;00m\n\u001b[32m   1758\u001b[39m \u001b[38;5;66;03m# async callbacks to progress.\u001b[39;00m\n\u001b[32m   1759\u001b[39m \u001b[38;5;28;01mif\u001b[39;00m ((\u001b[38;5;28mlen\u001b[39m(\u001b[38;5;28mself\u001b[39m._jobs) == \u001b[32m0\u001b[39m) \u001b[38;5;129;01mor\u001b[39;00m\n\u001b[32m   1760\u001b[39m     (\u001b[38;5;28mself\u001b[39m._jobs[\u001b[32m0\u001b[39m].get_status(\n\u001b[32m   1761\u001b[39m         timeout=\u001b[38;5;28mself\u001b[39m.timeout) == TASK_PENDING)):\n\u001b[32m-> \u001b[39m\u001b[32m1762\u001b[39m     \u001b[43mtime\u001b[49m\u001b[43m.\u001b[49m\u001b[43msleep\u001b[49m\u001b[43m(\u001b[49m\u001b[32;43m0.01\u001b[39;49m\u001b[43m)\u001b[49m\n\u001b[32m   1763\u001b[39m     \u001b[38;5;28;01mcontinue\u001b[39;00m\n\u001b[32m   1765\u001b[39m \u001b[38;5;66;03m# We need to be careful: the job list can be filling up as\u001b[39;00m\n\u001b[32m   1766\u001b[39m \u001b[38;5;66;03m# we empty it and Python list are not thread-safe by\u001b[39;00m\n\u001b[32m   1767\u001b[39m \u001b[38;5;66;03m# default hence the use of the lock\u001b[39;00m\n",
      "\u001b[31mKeyboardInterrupt\u001b[39m: "
     ]
    }
   ],
   "source": [
    "res = []\n",
    "for n in (100, 200):\n",
    "    for t in (20, 50):\n",
    "        for G in (3, 6):\n",
    "            for k in (3,):\n",
    "                print(f\"\\n\\nRunning DGP2 with n={n}, t={t}, G={G}, k={k}\")\n",
    "                runs = pickle.load(open(f\"development/generated_data/dgp2_n{n}_t{t}_G{G}_k{k}.pkl\", \"rb\"))\n",
    "\n",
    "                # Wrap the iterable in tqdm to get a progress bar\n",
    "                estimates = Parallel(n_jobs=-1, prefer=\"processes\")(\n",
    "                    delayed(sj_ic)(run, G, i)\n",
    "                    for i, run in tqdm(enumerate(runs), total=500, desc=f\"DGP2 n={n}, t={t}, G={G}, k={k}\")\n",
    "                )\n",
    "\n",
    "                estimates = np.array(estimates)\n",
    "                proportion_correct = np.mean(estimates == G)\n",
    "                values = np.array([2, 3, 4, 5, 6, 7, 8])\n",
    "                value_count = np.array([(estimates == val).sum() for val in values])\n",
    "\n",
    "                # with open(output_path, \"wb\") as f:\n",
    "                #     pickle.dump(estimates, f)\n",
    "                print(f\"Proportion of correct G estimates {n}, {t}, {G}, {k}: {proportion_correct:.2f}\")\n",
    "                res.append((n, t, G, k, proportion_correct, *value_count))\n",
    "\n",
    "print(\n",
    "    pd.DataFrame(res, columns=[\"n\", \"t\", \"G\", \"k\", \"proportion_correct\", \"2\", \"3\", \"4\", \"5\", \"6\", \"7\", \"8\"]).to_latex()\n",
    ")"
   ]
  },
  {
   "cell_type": "code",
   "execution_count": null,
   "id": "3f9c7c5f",
   "metadata": {},
   "outputs": [],
   "source": [
    "def ssp_ic(run, G_true, i):\n",
    "    x, y, f, g, *_ = run\n",
    "    x = np.float32(x)\n",
    "    y = np.atleast_3d(np.float32(y))\n",
    "    f = np.float32(f)\n",
    "    n_boot = 100 if G_true < 4 else 50\n",
    "    kappa = 0.005 if G_true < 4 else 0.00005\n",
    "    bootstrap = True if G_true < 4 else False\n",
    "    try:\n",
    "        with open(os.devnull, \"w\") as devnull:\n",
    "            with contextlib.redirect_stdout(devnull), contextlib.redirect_stderr(devnull):\n",
    "                return grid_search_by_ic(\n",
    "                    GroupedFixedEffects,\n",
    "                    {\"G\": [2, 3, 4, 5, 6, 7, 8]},\n",
    "                    init_params={\n",
    "                        \"dependent\": y,\n",
    "                        \"exog\": x,\n",
    "                        \"bootstrap\": bootstrap,\n",
    "                        \"model\": \"su_shi_phillips\",\n",
    "                        \"hide_progressbar\": False,\n",
    "                    },\n",
    "                    fit_params={\n",
    "                        \"n_boot\": n_boot,\n",
    "                        \"only_bfgs\": True,\n",
    "                        \"max_iter\": 100,\n",
    "                        \"kappa\": kappa,\n",
    "                        \"tol\": 1e-2,\n",
    "                        \"boot_n_jobs\": 1,\n",
    "                    },\n",
    "                )[2][\"G\"]\n",
    "    except Exception as err:\n",
    "        print(f\"Error in run {i}: {err}\")\n",
    "        return np.nan\n",
    "\n",
    "\n",
    "# runs = pickle.load(open(\"development/generated_data/dgp2_n100_t20_G3_k3.pkl\", \"rb\"))\n",
    "# sj_ic(runs[0], 3, 0)"
   ]
  },
  {
   "cell_type": "code",
   "execution_count": null,
   "id": "b477e474",
   "metadata": {},
   "outputs": [],
   "source": [
    "res = []\n",
    "for n in (100, 200):\n",
    "    for t in (20, 50):\n",
    "        for G in (3, 6):\n",
    "            for k in (3,):\n",
    "                print(f\"\\n\\nRunning DGP1 with n={n}, t={t}, G={G}, k={k}\")\n",
    "                runs = pickle.load(open(f\"development/generated_data/dgp3_n{n}_t{t}_G{G}_k{k}.pkl\", \"rb\"))\n",
    "\n",
    "                # Wrap the iterable in tqdm to get a progress bar\n",
    "                estimates = Parallel(n_jobs=-1, prefer=\"processes\")(\n",
    "                    delayed(ssp_ic)(run, G, i)\n",
    "                    for i, run in tqdm(enumerate(runs), total=500, desc=f\"DGP3 n={n}, t={t}, G={G}, k={k}\")\n",
    "                )\n",
    "\n",
    "                estimates = np.array(estimates)\n",
    "                proportion_correct = np.mean(estimates == G)\n",
    "                values = np.array([2, 3, 4, 5, 6, 7, 8])\n",
    "                value_count = np.array([(estimates == val).sum() for val in values])\n",
    "\n",
    "                # with open(output_path, \"wb\") as f:\n",
    "                #     pickle.dump(estimates, f)\n",
    "                print(f\"Proportion of correct G estimates {n}, {t}, {G}, {k}: {proportion_correct:.2f}\")\n",
    "                res.append((n, t, G, k, proportion_correct, *value_count))\n",
    "\n",
    "print(\n",
    "    pd.DataFrame(res, columns=[\"n\", \"t\", \"G\", \"k\", \"proportion_correct\", \"2\", \"3\", \"4\", \"5\", \"6\", \"7\", \"8\"]).to_latex()\n",
    ")"
   ]
  }
 ],
 "metadata": {
  "kernelspec": {
   "display_name": "Python 3",
   "language": "python",
   "name": "python3"
  },
  "language_info": {
   "codemirror_mode": {
    "name": "ipython",
    "version": 3
   },
   "file_extension": ".py",
   "mimetype": "text/x-python",
   "name": "python",
   "nbconvert_exporter": "python",
   "pygments_lexer": "ipython3",
   "version": "3.13.3"
  }
 },
 "nbformat": 4,
 "nbformat_minor": 5
}
