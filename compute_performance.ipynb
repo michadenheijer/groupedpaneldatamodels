{
 "cells": [
  {
   "cell_type": "code",
   "execution_count": null,
   "id": "c77ef594",
   "metadata": {},
   "outputs": [],
   "source": [
    "import pickle\n",
    "import numpy as np\n",
    "from src.groupedpaneldatamodels import GroupedFixedEffects, GroupedInteractiveFixedEffects\n",
    "from joblib import Parallel, delayed\n",
    "import cProfile"
   ]
  },
  {
   "cell_type": "markdown",
   "id": "93b79dda",
   "metadata": {},
   "source": [
    "# Bonhomme Manresa"
   ]
  },
  {
   "cell_type": "code",
   "execution_count": null,
   "id": "6c8a12f4",
   "metadata": {},
   "outputs": [],
   "source": [
    "def bm_run(run, G, i):\n",
    "    x, y, f, g = run\n",
    "    x = np.float32(x)\n",
    "    y = np.atleast_3d(np.float32(y))\n",
    "    f = np.float32(f)\n",
    "    gfe_iterations = 10 if G < 4 else 100\n",
    "    n_boot = 200 if G < 4 else 100\n",
    "    m = GroupedFixedEffects(y, x, G, True, hide_progressbar=True).fit(\n",
    "        max_iter=100, gfe_iterations=gfe_iterations, n_boot=n_boot\n",
    "    )\n",
    "    print(f\"Finished run {i}\")\n",
    "\n",
    "    return m.to_dict()"
   ]
  },
  {
   "cell_type": "code",
   "execution_count": null,
   "id": "3843c98a",
   "metadata": {},
   "outputs": [],
   "source": [
    "for n in (100, 200,):\n",
    "    for t in (20, 50,):\n",
    "        for G in (3, 6,):\n",
    "            for k in (3,):\n",
    "                print(f\"\\n\\nRunning DGP1 with n={n}, t={t}, G={G}, k={k}\")\n",
    "                runs = pickle.load(open(f\"development/generated_data/dgp1_n{n}_t{t}_G{G}_k{k}.pkl\", \"rb\"))\n",
    "                estimates = []\n",
    "                estimates = Parallel(n_jobs=-1)(delayed(bm_run)(run, G, i) for i, run in enumerate(runs[:200]))\n",
    "\n",
    "                with open(f\"estimates/dgp1_n{n}_t{t}_G{G}_k{k}.pkl\", \"wb\") as f:\n",
    "                    pickle.dump(estimates, f)"
   ]
  },
  {
   "cell_type": "code",
   "execution_count": null,
   "id": "c0a1fe40",
   "metadata": {},
   "outputs": [],
   "source": [
    "def ab_run(run, G, i):\n",
    "    x, y, f, g, *_ = run\n",
    "    x = np.float32(x)\n",
    "    y = np.atleast_3d(np.float32(y))\n",
    "    f = np.float32(f)\n",
    "    gife_iterations = 10 if G < 4 else 100\n",
    "    n_boot = 200 if G < 4 else 100\n",
    "    m = GroupedInteractiveFixedEffects(y, x, G, True, hide_progressbar=True).fit(max_iter=100, gife_iterations=gife_iterations, n_boot=n_boot)\n",
    "    print(f\"Finished run {i}\")\n",
    "\n",
    "    return m.to_dict()\n",
    "\n",
    "\n",
    "for n in (100, 200):\n",
    "    for t in (20, 50):\n",
    "        for G in (3, 6):\n",
    "            for k in (3,):\n",
    "                print(f\"\\n\\nRunning DGP2 (ab) with n={n}, t={t}, G={G}, k={k}\")\n",
    "                runs = pickle.load(open(f\"development/generated_data/dgp2_n{n}_t{t}_G{G}_k{k}.pkl\", \"rb\"))\n",
    "                estimates = []\n",
    "                estimates = Parallel(n_jobs=-1)(delayed(ab_run)(run, G, i) for i, run in enumerate(runs[:200]))\n",
    "\n",
    "                with open(f\"estimates/dgp2_n{n}_t{t}_G{G}_k{k}.pkl\", \"wb\") as f:\n",
    "                    pickle.dump(estimates, f)"
   ]
  },
  {
   "cell_type": "code",
   "execution_count": null,
   "id": "8fdc2f4b",
   "metadata": {},
   "outputs": [],
   "source": [
    "def sj_run(run, G, i):\n",
    "    x, y, f, g, *_ = run\n",
    "    x = np.float32(x)\n",
    "    y = np.atleast_3d(np.float32(y))\n",
    "    f = np.float32(f)\n",
    "    n_boot = 100 if G < 4 else 50\n",
    "    kappa = 0.005 if G < 4 else 0.00005\n",
    "    m = GroupedInteractiveFixedEffects(y, x, G, True, \"su_ju\", R=G, hide_progressbar=True).fit(\n",
    "        n_boot=n_boot, only_bfgs=True, max_iter=100, kappa=kappa, tol=1e-2\n",
    "    )\n",
    "    print(f\"Finished run {i}\")\n",
    "\n",
    "    return m.to_dict()\n",
    "\n",
    "for n in (100, 200):\n",
    "    for t in (20, 50):\n",
    "        for G in (3, 6):\n",
    "            for k in (3,):\n",
    "                print(f\"\\n\\nRunning DGP2 (su_ju) with n={n}, t={t}, G={G}, k={k}\")\n",
    "                runs = pickle.load(open(f\"development/generated_data/dgp2_n{n}_t{t}_G{G}_k{k}.pkl\", \"rb\"))\n",
    "                estimates = []\n",
    "                estimates = Parallel(n_jobs=-1)(delayed(sj_run)(run, G, i) for i, run in enumerate(runs[:200]))\n",
    "\n",
    "                with open(f\"estimates/dgp2_n{n}_t{t}_G{G}_k{k}_su_ju.pkl\", \"wb\") as f:\n",
    "                    pickle.dump(estimates, f)"
   ]
  },
  {
   "cell_type": "code",
   "execution_count": null,
   "id": "51c895ff",
   "metadata": {},
   "outputs": [],
   "source": [
    "def ss_run(run, G, i):\n",
    "    x, y, g = run\n",
    "    x = np.float32(x)\n",
    "    y = np.atleast_3d(np.float32(y))\n",
    "    n_boot = 100 if G < 4 else 50\n",
    "    kappa = 0.005 if G < 4 else 0.00005\n",
    "    m = GroupedFixedEffects(y, x, G, True, \"su_shi_phillips\", hide_progressbar=True).fit(\n",
    "        n_boot=n_boot, only_bfgs=True, max_iter=100, kappa=kappa, tol=1e-2\n",
    "    )\n",
    "\n",
    "    print(f\"Finished run {i}\")\n",
    "    return m.to_dict()\n",
    "\n",
    "for n in (100, 200):\n",
    "    for t in (20, 50):\n",
    "        for G in (3, 6):\n",
    "            for k in (3,):\n",
    "                print(f\"\\n\\nRunning DGP3 (su_shi_phillips) with n={n}, t={t}, G={G}, k={k}\")\n",
    "                runs = pickle.load(open(f\"development/generated_data/dgp3_n{n}_t{t}_G{G}_k{k}.pkl\", \"rb\"))\n",
    "                estimates = []\n",
    "                estimates = Parallel(n_jobs=-1)(delayed(ss_run)(run, G, i) for i, run in enumerate(runs[:200]))\n",
    "                with open(f\"estimates/dgp3_n{n}_t{t}_G{G}_k{k}.pkl\", \"wb\") as f:\n",
    "                    pickle.dump(estimates, f)"
   ]
  }
 ],
 "metadata": {
  "kernelspec": {
   "display_name": "Python 3",
   "language": "python",
   "name": "python3"
  },
  "language_info": {
   "codemirror_mode": {
    "name": "ipython",
    "version": 3
   },
   "file_extension": ".py",
   "mimetype": "text/x-python",
   "name": "python",
   "nbconvert_exporter": "python",
   "pygments_lexer": "ipython3",
   "version": "3.13.3"
  }
 },
 "nbformat": 4,
 "nbformat_minor": 5
}
