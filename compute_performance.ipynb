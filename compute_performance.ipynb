{
 "cells": [
  {
   "cell_type": "code",
   "execution_count": 1,
   "id": "c77ef594",
   "metadata": {},
   "outputs": [],
   "source": [
    "import pickle\n",
    "import numpy as np\n",
    "from src.groupedpaneldatamodels import GroupedFixedEffects, GroupedInteractiveFixedEffects, grid_search_by_ic\n",
    "from joblib import Parallel, delayed\n",
    "# from tqdm import tqdm\n",
    "from tqdm.notebook import tqdm\n",
    "import os"
   ]
  },
  {
   "cell_type": "markdown",
   "id": "93b79dda",
   "metadata": {},
   "source": [
    "# Bonhomme Manresa (DGP 1)"
   ]
  },
  {
   "cell_type": "code",
   "execution_count": null,
   "id": "6c8a12f4",
   "metadata": {},
   "outputs": [],
   "source": [
    "def bm_run(run, G, i):\n",
    "    x, y, f, g = run\n",
    "    x = np.float32(x)\n",
    "    y = np.atleast_3d(np.float32(y))\n",
    "    f = np.float32(f)\n",
    "    gfe_iterations = 10 if G < 4 else 100\n",
    "    n_boot = 200\n",
    "    bootstrap = True if G < 4 else False\n",
    "    try:\n",
    "        m = GroupedFixedEffects(y, x, G, bootstrap, hide_progressbar=True).fit(\n",
    "            max_iter=100, gfe_iterations=gfe_iterations, n_boot=n_boot, boot_n_jobs=1\n",
    "        )\n",
    "\n",
    "        return m.to_dict()\n",
    "    except Exception as e:\n",
    "        print(f\"Error in run {i}: {e}\")\n",
    "        return None\n",
    "\n",
    "# runs = pickle.load(open(\"development/generated_data/dgp1_n100_t20_G3_k3.pkl\", \"rb\"))\n",
    "# bm_run(runs[0], 3, 0)"
   ]
  },
  {
   "cell_type": "code",
   "execution_count": null,
   "id": "3843c98a",
   "metadata": {},
   "outputs": [],
   "source": [
    "for n in (100, 200):\n",
    "    for t in (20, 50):\n",
    "        for G in (3, 6):\n",
    "            for k in (3,):\n",
    "                output_path = f\"estimates/dgp1_n{n}_t{t}_G{G}_k{k}_full.pkl\"\n",
    "                if os.path.exists(output_path):\n",
    "                    print(f\"Skipping DGP1 with n={n}, t={t}, G={G}, k={k} (already exists)\")\n",
    "                    continue\n",
    "\n",
    "                print(f\"\\n\\nRunning DGP1 with n={n}, t={t}, G={G}, k={k}\")\n",
    "                runs = pickle.load(open(f\"development/generated_data/dgp1_n{n}_t{t}_G{G}_k{k}.pkl\", \"rb\"))\n",
    "\n",
    "                # Wrap the iterable in tqdm to get a progress bar\n",
    "                estimates = Parallel(n_jobs=-1, prefer=\"processes\")(\n",
    "                    delayed(bm_run)(run, G, i)\n",
    "                    for i, run in tqdm(enumerate(runs), total=500, desc=f\"DGP1 n={n}, t={t}, G={G}, k={k}\")\n",
    "                )\n",
    "\n",
    "                with open(output_path, \"wb\") as f:\n",
    "                    pickle.dump(estimates, f)"
   ]
  },
  {
   "cell_type": "markdown",
   "id": "376fcad5",
   "metadata": {},
   "source": [
    "## DGP 2"
   ]
  },
  {
   "cell_type": "code",
   "execution_count": null,
   "id": "c3368755",
   "metadata": {},
   "outputs": [],
   "source": [
    "def ab_run(run, G, i):\n",
    "    x, y, f, g, *_ = run\n",
    "    x = np.float32(x)\n",
    "    y = np.atleast_3d(np.float32(y))\n",
    "    f = np.float32(f)\n",
    "    gife_iterations = 10 if G < 4 else 100\n",
    "    n_boot = 200 if G < 4 else 100\n",
    "    bootstrap = True if G < 4 else False\n",
    "    try:\n",
    "        m = GroupedInteractiveFixedEffects(y, x, G, bootstrap, hide_progressbar=True).fit(max_iter=100, gife_iterations=gife_iterations, n_boot=n_boot, boot_n_jobs=1)\n",
    "\n",
    "        return m.to_dict()\n",
    "    except Exception as err:\n",
    "        print(f\"Error {err}\")\n",
    "\n",
    "        return\n",
    "\n",
    "# runs = pickle.load(open(\"development/generated_data/dgp2_n100_t20_G3_k3.pkl\", \"rb\"))\n",
    "# ab_run(runs[0], 3, 0)"
   ]
  },
  {
   "cell_type": "code",
   "execution_count": null,
   "id": "c0a1fe40",
   "metadata": {},
   "outputs": [],
   "source": [
    "for n in (100, 200):\n",
    "    for t in (20, 50):\n",
    "        for G in (3, 6):\n",
    "            for k in (3,):\n",
    "                output_path = f\"estimates/dgp2_n{n}_t{t}_G{G}_k{k}_full.pkl\"\n",
    "                if os.path.exists(output_path):\n",
    "                    print(f\"Skipping DGP2 with n={n}, t={t}, G={G}, k={k} (already exists)\")\n",
    "                    continue\n",
    "                print(f\"\\n\\nRunning DGP2 (ab) with n={n}, t={t}, G={G}, k={k}\")\n",
    "                runs = pickle.load(open(f\"development/generated_data/dgp2_n{n}_t{t}_G{G}_k{k}.pkl\", \"rb\"))\n",
    "\n",
    "                estimates = Parallel(n_jobs=-1, prefer=\"processes\")(\n",
    "                    delayed(ab_run)(run, G, i)\n",
    "                    for i, run in tqdm(enumerate(runs), total=500, desc=f\"DGP2 n={n}, t={t}, G={G}, k={k}\")\n",
    "                )\n",
    "\n",
    "                with open(output_path, \"wb\") as f:\n",
    "                    pickle.dump(estimates, f)"
   ]
  },
  {
   "cell_type": "code",
   "execution_count": null,
   "id": "1b548cbb",
   "metadata": {},
   "outputs": [],
   "source": [
    "def sj_run(run, G, i):\n",
    "    x, y, f, g, *_ = run\n",
    "    x = np.float32(x)\n",
    "    y = np.atleast_3d(np.float32(y))\n",
    "    f = np.float32(f)\n",
    "    n_boot = 100 if G < 4 else 50\n",
    "    kappa = 0.005 if G < 4 else 0.00005\n",
    "    bootstrap = True if G < 4 else False\n",
    "    try:\n",
    "        m = GroupedInteractiveFixedEffects(y, x, G, bootstrap, \"su_ju\", R=G, hide_progressbar=True).fit(\n",
    "            n_boot=n_boot, only_bfgs=True, max_iter=100, kappa=kappa, tol=1e-2, boot_n_jobs=1\n",
    "        )\n",
    "\n",
    "        return m.to_dict()\n",
    "    except Exception as err:\n",
    "        print(f\"Error: {err}\")\n",
    "        return None\n",
    "\n",
    "# runs = pickle.load(open(\"development/generated_data/dgp2_n100_t20_G3_k3.pkl\", \"rb\"))\n",
    "# sj_run(runs[0], 3, 0)"
   ]
  },
  {
   "cell_type": "code",
   "execution_count": null,
   "id": "8fdc2f4b",
   "metadata": {},
   "outputs": [],
   "source": [
    "for n in (100, 200):\n",
    "    for t in (20, 50):\n",
    "        for G in (3, 6):\n",
    "            for k in (3,):\n",
    "                output_path = f\"estimates/dgp2_n{n}_t{t}_G{G}_k{k}_su_ju_full.pkl\"\n",
    "                if os.path.exists(output_path):\n",
    "                    print(f\"Skipping DGP2 with n={n}, t={t}, G={G}, k={k} (already exists)\")\n",
    "                    continue\n",
    "                print(f\"\\n\\nRunning DGP2 (su_ju) with n={n}, t={t}, G={G}, k={k}\")\n",
    "                runs = pickle.load(open(f\"development/generated_data/dgp2_n{n}_t{t}_G{G}_k{k}.pkl\", \"rb\"))\n",
    "\n",
    "                estimates = Parallel(n_jobs=-1, prefer=\"processes\")(\n",
    "                    delayed(sj_run)(run, G, i)\n",
    "                    for i, run in enumerate(tqdm(runs, desc=f\"DGP2 n={n}, t={t}, G={G}, k={k}\"))\n",
    "                )\n",
    "\n",
    "                with open(output_path, \"wb\") as f:\n",
    "                    pickle.dump(estimates, f)"
   ]
  },
  {
   "cell_type": "markdown",
   "id": "e1be5cd7",
   "metadata": {},
   "source": [
    "# DGP 3 (SSJ)"
   ]
  },
  {
   "cell_type": "code",
   "execution_count": null,
   "id": "5b9f2fe8",
   "metadata": {},
   "outputs": [],
   "source": [
    "def ssp_run(run, G, i, kappa=0.005):\n",
    "    x, y, g = run\n",
    "    x = np.float32(x)\n",
    "    y = np.atleast_3d(np.float32(y))\n",
    "    n_boot = 100 if G < 4 else 50\n",
    "    # kappa = 0.005 if G < 4 else 0.00005\n",
    "    bootstrap = False if G < 4 else False\n",
    "    try:\n",
    "        m = GroupedFixedEffects(y, x, G, bootstrap, \"su_shi_phillips\", hide_progressbar=True).fit(\n",
    "            n_boot=n_boot, only_bfgs=False, max_iter=100, kappa=kappa, tol=1e-5, boot_n_jobs=1\n",
    "        )\n",
    "\n",
    "        return m.to_dict()\n",
    "    except Exception as err:\n",
    "        print(f\"Error: {err}\")\n",
    "        return None\n",
    "\n",
    "runs = pickle.load(open(\"development/generated_data/dgp3_n100_t20_G3_k3.pkl\", \"rb\"))\n",
    "ssp_run(runs[0], 3, 0)"
   ]
  },
  {
   "cell_type": "code",
   "execution_count": null,
   "id": "51c895ff",
   "metadata": {},
   "outputs": [],
   "source": [
    "for n in (100, 200):\n",
    "    for t in (20, 50):\n",
    "        for G in (3, 6):\n",
    "            for k in (3,):\n",
    "                output_path = f\"estimates/dgp3_n{n}_t{t}_G{G}_k{k}_full.pkl\"\n",
    "                if os.path.exists(output_path):\n",
    "                    print(f\"Skipping DGP3 with n={n}, t={t}, G={G}, k={k} (already exists)\")\n",
    "                    continue\n",
    "                print(f\"\\n\\nRunning DGP3 (su_shi_phillips) with n={n}, t={t}, G={G}, k={k}\")\n",
    "                runs = pickle.load(open(f\"development/generated_data/dgp3_n{n}_t{t}_G{G}_k{k}.pkl\", \"rb\"))\n",
    "                estimates = []\n",
    "                estimates = Parallel(n_jobs=-1, prefer=\"processes\")(\n",
    "                    delayed(ssp_run)(run, G, i) for i, run in enumerate(tqdm(runs, desc=f\"DGP2 n={n}, t={t}, G={G}, k={k}\"))\n",
    "                )\n",
    "                with open(output_path, \"wb\") as f:\n",
    "                    pickle.dump(estimates, f)"
   ]
  },
  {
   "cell_type": "code",
   "execution_count": null,
   "id": "bcf02b00",
   "metadata": {},
   "outputs": [],
   "source": [
    "from statsmodels.regression.linear_model import OLS\n",
    "from statsmodels.tools.tools import add_constant\n",
    "\n",
    "def ols(y, x):\n",
    "    \"\"\"\n",
    "    Fit an OLS model to the data and return the coefficients.\n",
    "    \"\"\"\n",
    "    model = OLS(y, add_constant(x))\n",
    "    results = model.fit()\n",
    "    return results.params[1:], results.conf_int(alpha=0.05)[1], results.bse[1:]\n",
    "\n",
    "def heterogeneous_ols(y, x):\n",
    "    \"\"\"\n",
    "    Fit an OLS model to the data and return the coefficients.\n",
    "    \"\"\"\n",
    "    est_array = np.zeros((x.shape[0], x.shape[2]))\n",
    "    conf_array = np.zeros((x.shape[0], x.shape[2], 2))\n",
    "    se_array = np.zeros((x.shape[0], x.shape[2]))\n",
    "\n",
    "    for i in range(len(x)):\n",
    "        est, conf, se = ols(y[i], x[i])\n",
    "        est_array[i] = est\n",
    "        conf_array[i] = conf\n",
    "        se_array[i] = se\n",
    "\n",
    "    return est_array, conf_array, se_array"
   ]
  },
  {
   "cell_type": "code",
   "execution_count": null,
   "id": "754cb5d0",
   "metadata": {},
   "outputs": [],
   "source": [
    "runs = pickle.load(open(\"development/generated_data/dgp1_n100_t20_G3_k3.pkl\", \"rb\"))\n",
    "\n",
    "estimates = []\n",
    "for run in tqdm(runs[:200]):\n",
    "    x = np.float32(runs[0][0])\n",
    "    y = np.float32(runs[0][1])\n",
    "\n",
    "    estimates.append(heterogeneous_ols(y, x))\n",
    "\n",
    "output_path = \"estimates/dgp1_n100_t20_G3_k3_ols.pkl\"\n",
    "with open(output_path, \"wb\") as f:\n",
    "    pickle.dump(estimates, f)"
   ]
  },
  {
   "cell_type": "code",
   "execution_count": null,
   "id": "dbce6658",
   "metadata": {},
   "outputs": [],
   "source": [
    "def heterogeneous_ols_run(dgp, n, t, G, k):\n",
    "    runs = pickle.load(open(f\"development/generated_data/dgp{dgp}_n{n}_t{t}_G{G}_k{k}.pkl\", \"rb\"))\n",
    "\n",
    "    def _run_single_estimation(run):\n",
    "        x = np.float64(run[0])\n",
    "        y = np.float64(run[1])\n",
    "        return heterogeneous_ols(y, x)\n",
    "\n",
    "    # Wrap tqdm around the iterator to preserve the progress bar\n",
    "    estimates = Parallel(n_jobs=-1)(\n",
    "        delayed(_run_single_estimation)(run) for run in tqdm(runs)\n",
    "    )\n",
    "\n",
    "    output_path = f\"estimates/dgp{dgp}_n{n}_t{t}_G{G}_k{k}_ols.pkl\"\n",
    "    with open(output_path, \"wb\") as f:\n",
    "        pickle.dump(estimates, f)"
   ]
  },
  {
   "cell_type": "code",
   "execution_count": null,
   "id": "6b21216a",
   "metadata": {},
   "outputs": [],
   "source": [
    "for dgp in (1, 2, 3):\n",
    "    for n in (100, 200):\n",
    "        for t in (20, 50):\n",
    "            for G in (3, 6):\n",
    "                for k in (3,):\n",
    "                    heterogeneous_ols_run(dgp, n, t, G, k)"
   ]
  },
  {
   "cell_type": "markdown",
   "id": "6ac3bea6",
   "metadata": {},
   "source": [
    "## IC"
   ]
  },
  {
   "cell_type": "code",
   "execution_count": 3,
   "id": "e1bc893f",
   "metadata": {},
   "outputs": [],
   "source": [
    "import contextlib\n",
    "import pandas as pd"
   ]
  },
  {
   "cell_type": "code",
   "execution_count": 4,
   "id": "cb731ae2",
   "metadata": {},
   "outputs": [
    {
     "data": {
      "text/plain": [
       "3"
      ]
     },
     "execution_count": 4,
     "metadata": {},
     "output_type": "execute_result"
    }
   ],
   "source": [
    "def bm_ic(run, G_true, i):\n",
    "    x, y, f, g = run\n",
    "    x = np.float32(x)\n",
    "    y = np.atleast_3d(np.float32(y))\n",
    "    f = np.float32(f)\n",
    "    gfe_iterations = 10 if G_true < 4 else 100\n",
    "    n_boot = 200 if G_true < 4 else 100\n",
    "    bootstrap = True if G_true < 4 else False\n",
    "    try:\n",
    "        # m = GroupedFixedEffects(y, x, G_true, bootstrap, hide_progressbar=False).fit(\n",
    "        #     max_iter=100, gfe_iterations=gfe_iterations, n_boot=n_boot, boot_n_jobs=1)\n",
    "        with open(os.devnull, 'w') as devnull:\n",
    "            with contextlib.redirect_stdout(devnull), contextlib.redirect_stderr(devnull):\n",
    "                return grid_search_by_ic(GroupedFixedEffects, {\"G\": [2, 3, 4, 5, 6, 7, 8]}, init_params={\"dependent\": y, \"exog\": x, \"bootstrap\": bootstrap, \"hide_progressbar\": False}, fit_params={\"max_iter\": 100, \"gfe_iterations\": gfe_iterations, \"n_boot\": n_boot, \"boot_n_jobs\": 1})[2][\"G\"]\n",
    "    except Exception as e:\n",
    "        print(f\"Error in run {i}: {e}\")\n",
    "        return np.nan\n",
    "\n",
    "runs = pickle.load(open(\"development/generated_data/dgp1_n100_t20_G3_k3.pkl\", \"rb\"))\n",
    "bm_ic(runs[0], 3, 0)"
   ]
  },
  {
   "cell_type": "code",
   "execution_count": 8,
   "id": "50283d6e",
   "metadata": {},
   "outputs": [
    {
     "name": "stdout",
     "output_type": "stream",
     "text": [
      "\n",
      "\n",
      "Running DGP1 with n=100, t=20, G=3, k=3\n"
     ]
    },
    {
     "data": {
      "application/vnd.jupyter.widget-view+json": {
       "model_id": "097ea8f8925341a6af23f5db224ad2bd",
       "version_major": 2,
       "version_minor": 0
      },
      "text/plain": [
       "DGP1 n=100, t=20, G=3, k=3:   0%|          | 0/500 [00:00<?, ?it/s]"
      ]
     },
     "metadata": {},
     "output_type": "display_data"
    },
    {
     "name": "stdout",
     "output_type": "stream",
     "text": [
      "Proportion of correct G estimates 100, 20, 3, 3: 1.00\n",
      "\n",
      "\n",
      "Running DGP1 with n=100, t=20, G=6, k=3\n"
     ]
    },
    {
     "data": {
      "application/vnd.jupyter.widget-view+json": {
       "model_id": "33a110c6cfe64811a44568d5c9cb357c",
       "version_major": 2,
       "version_minor": 0
      },
      "text/plain": [
       "DGP1 n=100, t=20, G=6, k=3:   0%|          | 0/500 [00:00<?, ?it/s]"
      ]
     },
     "metadata": {},
     "output_type": "display_data"
    },
    {
     "name": "stdout",
     "output_type": "stream",
     "text": [
      "Proportion of correct G estimates 100, 20, 6, 3: 0.98\n",
      "\n",
      "\n",
      "Running DGP1 with n=100, t=50, G=3, k=3\n"
     ]
    },
    {
     "data": {
      "application/vnd.jupyter.widget-view+json": {
       "model_id": "d1951483c7b2400b92edca1163e7ba9a",
       "version_major": 2,
       "version_minor": 0
      },
      "text/plain": [
       "DGP1 n=100, t=50, G=3, k=3:   0%|          | 0/500 [00:00<?, ?it/s]"
      ]
     },
     "metadata": {},
     "output_type": "display_data"
    },
    {
     "name": "stdout",
     "output_type": "stream",
     "text": [
      "Error in run 314: No theta found, something went wrong in the estimation process.\n",
      "Proportion of correct G estimates 100, 50, 3, 3: 1.00\n",
      "\n",
      "\n",
      "Running DGP1 with n=100, t=50, G=6, k=3\n"
     ]
    },
    {
     "data": {
      "application/vnd.jupyter.widget-view+json": {
       "model_id": "7c55092a1eab42e4a423765b4e9a0498",
       "version_major": 2,
       "version_minor": 0
      },
      "text/plain": [
       "DGP1 n=100, t=50, G=6, k=3:   0%|          | 0/500 [00:00<?, ?it/s]"
      ]
     },
     "metadata": {},
     "output_type": "display_data"
    },
    {
     "name": "stdout",
     "output_type": "stream",
     "text": [
      "Proportion of correct G estimates 100, 50, 6, 3: 0.78\n",
      "\n",
      "\n",
      "Running DGP1 with n=200, t=20, G=3, k=3\n"
     ]
    },
    {
     "data": {
      "application/vnd.jupyter.widget-view+json": {
       "model_id": "f2e26bec3e3a4c61a45e912819d4e8c1",
       "version_major": 2,
       "version_minor": 0
      },
      "text/plain": [
       "DGP1 n=200, t=20, G=3, k=3:   0%|          | 0/500 [00:00<?, ?it/s]"
      ]
     },
     "metadata": {},
     "output_type": "display_data"
    },
    {
     "name": "stdout",
     "output_type": "stream",
     "text": [
      "Proportion of correct G estimates 200, 20, 3, 3: 1.00\n",
      "\n",
      "\n",
      "Running DGP1 with n=200, t=20, G=6, k=3\n"
     ]
    },
    {
     "data": {
      "application/vnd.jupyter.widget-view+json": {
       "model_id": "b2f12bbe2f6c4d5297151c3899f6ad80",
       "version_major": 2,
       "version_minor": 0
      },
      "text/plain": [
       "DGP1 n=200, t=20, G=6, k=3:   0%|          | 0/500 [00:00<?, ?it/s]"
      ]
     },
     "metadata": {},
     "output_type": "display_data"
    },
    {
     "name": "stdout",
     "output_type": "stream",
     "text": [
      "Proportion of correct G estimates 200, 20, 6, 3: 1.00\n",
      "\n",
      "\n",
      "Running DGP1 with n=200, t=50, G=3, k=3\n"
     ]
    },
    {
     "data": {
      "application/vnd.jupyter.widget-view+json": {
       "model_id": "e6aa097a153b453c80176253e821da12",
       "version_major": 2,
       "version_minor": 0
      },
      "text/plain": [
       "DGP1 n=200, t=50, G=3, k=3:   0%|          | 0/500 [00:00<?, ?it/s]"
      ]
     },
     "metadata": {},
     "output_type": "display_data"
    },
    {
     "name": "stdout",
     "output_type": "stream",
     "text": [
      "Error in run 93: No theta found, something went wrong in the estimation process.\n",
      "Error in run 98: No theta found, something went wrong in the estimation process.\n",
      "Error in run 296: No theta found, something went wrong in the estimation process.\n",
      "Error in run 319: No theta found, something went wrong in the estimation process.\n",
      "Error in run 416: No theta found, something went wrong in the estimation process.\n",
      "Proportion of correct G estimates 200, 50, 3, 3: 0.99\n",
      "\n",
      "\n",
      "Running DGP1 with n=200, t=50, G=6, k=3\n"
     ]
    },
    {
     "data": {
      "application/vnd.jupyter.widget-view+json": {
       "model_id": "58a11e2060df4477a2d11170839c68fa",
       "version_major": 2,
       "version_minor": 0
      },
      "text/plain": [
       "DGP1 n=200, t=50, G=6, k=3:   0%|          | 0/500 [00:00<?, ?it/s]"
      ]
     },
     "metadata": {},
     "output_type": "display_data"
    },
    {
     "name": "stdout",
     "output_type": "stream",
     "text": [
      "Proportion of correct G estimates 200, 50, 6, 3: 0.94\n",
      "\\begin{tabular}{lrrrrrrrrrrrr}\n",
      "\\toprule\n",
      " & n & t & G & k & proportion_correct & 2 & 3 & 4 & 5 & 6 & 7 & 8 \\\\\n",
      "\\midrule\n",
      "0 & 100 & 20 & 3 & 3 & 1.000000 & 0.000000 & 1.000000 & 0.000000 & 0.000000 & 0.000000 & 0.000000 & 0.000000 \\\\\n",
      "1 & 100 & 20 & 6 & 3 & 0.980000 & 0.000000 & 0.000000 & 0.000000 & 0.000000 & 0.980000 & 0.020000 & 0.000000 \\\\\n",
      "2 & 100 & 50 & 3 & 3 & 0.998000 & 0.000000 & 0.998000 & 0.000000 & 0.000000 & 0.000000 & 0.000000 & 0.000000 \\\\\n",
      "3 & 100 & 50 & 6 & 3 & 0.782000 & 0.000000 & 0.000000 & 0.000000 & 0.000000 & 0.782000 & 0.210000 & 0.008000 \\\\\n",
      "4 & 200 & 20 & 3 & 3 & 1.000000 & 0.000000 & 1.000000 & 0.000000 & 0.000000 & 0.000000 & 0.000000 & 0.000000 \\\\\n",
      "5 & 200 & 20 & 6 & 3 & 1.000000 & 0.000000 & 0.000000 & 0.000000 & 0.000000 & 1.000000 & 0.000000 & 0.000000 \\\\\n",
      "6 & 200 & 50 & 3 & 3 & 0.990000 & 0.000000 & 0.990000 & 0.000000 & 0.000000 & 0.000000 & 0.000000 & 0.000000 \\\\\n",
      "7 & 200 & 50 & 6 & 3 & 0.936000 & 0.000000 & 0.000000 & 0.000000 & 0.000000 & 0.936000 & 0.064000 & 0.000000 \\\\\n",
      "\\bottomrule\n",
      "\\end{tabular}\n",
      "\n"
     ]
    }
   ],
   "source": [
    "res = []\n",
    "for n in (100, 200):\n",
    "    for t in (20, 50):\n",
    "        for G in (3, 6):\n",
    "            for k in (3,):\n",
    "                print(f\"\\n\\nRunning DGP1 with n={n}, t={t}, G={G}, k={k}\")\n",
    "                runs = pickle.load(open(f\"development/generated_data/dgp1_n{n}_t{t}_G{G}_k{k}.pkl\", \"rb\"))\n",
    "\n",
    "                # Wrap the iterable in tqdm to get a progress bar\n",
    "                estimates = Parallel(n_jobs=-1, prefer=\"processes\")(\n",
    "                    delayed(bm_ic)(run, G, i)\n",
    "                    for i, run in tqdm(enumerate(runs), total=500, desc=f\"DGP1 n={n}, t={t}, G={G}, k={k}\")\n",
    "                )\n",
    "\n",
    "                estimates = np.array(estimates)\n",
    "                proportion_correct = np.mean(estimates == G)\n",
    "                values = np.array([2, 3, 4, 5, 6, 7, 8])\n",
    "                value_count = np.array([(estimates == val).sum() for val in values]) / len(estimates)\n",
    "\n",
    "                # with open(output_path, \"wb\") as f:\n",
    "                #     pickle.dump(estimates, f)\n",
    "                print(f\"Proportion of correct G estimates {n}, {t}, {G}, {k}: {proportion_correct:.2f}\")\n",
    "                res.append((n, t, G, k, proportion_correct, *value_count))\n",
    "\n",
    "print(\n",
    "    pd.DataFrame(res, columns=[\"n\", \"t\", \"G\", \"k\", \"proportion_correct\", \"2\", \"3\", \"4\", \"5\", \"6\", \"7\", \"8\"]).to_latex()\n",
    ")"
   ]
  },
  {
   "cell_type": "code",
   "execution_count": 9,
   "id": "fea3b66c",
   "metadata": {},
   "outputs": [
    {
     "data": {
      "text/plain": [
       "3"
      ]
     },
     "execution_count": 9,
     "metadata": {},
     "output_type": "execute_result"
    }
   ],
   "source": [
    "def ab_ic(run, G_true, i):\n",
    "    x, y, f, g, *_ = run\n",
    "    x = np.float32(x)\n",
    "    y = np.atleast_3d(np.float32(y))\n",
    "    f = np.float32(f)\n",
    "    gife_iterations = 10 if G < 4 else 100\n",
    "    n_boot = 200 if G < 4 else 100\n",
    "    bootstrap = True if G < 4 else False\n",
    "    try:\n",
    "        with open(os.devnull, 'w') as devnull:\n",
    "            with contextlib.redirect_stdout(devnull), contextlib.redirect_stderr(devnull):\n",
    "                return grid_search_by_ic(GroupedInteractiveFixedEffects, {\"G\": [2, 3, 4, 5, 6, 7, 8]}, init_params={\"dependent\": y, \"exog\": x, \"bootstrap\": bootstrap, \"hide_progressbar\": False}, fit_params={\"max_iter\": 100, \"gife_iterations\": gife_iterations, \"n_boot\": n_boot, \"boot_n_jobs\": 1})[2][\"G\"]\n",
    "    except Exception as e:\n",
    "        print(f\"Error in run {i}: {e}\")\n",
    "        return np.nan\n",
    "\n",
    "\n",
    "runs = pickle.load(open(\"development/generated_data/dgp2_n100_t20_G3_k3.pkl\", \"rb\"))\n",
    "ab_ic(runs[0], 3, 0)"
   ]
  },
  {
   "cell_type": "code",
   "execution_count": 10,
   "id": "6f54818b",
   "metadata": {},
   "outputs": [
    {
     "name": "stdout",
     "output_type": "stream",
     "text": [
      "\n",
      "\n",
      "Running DGP2 with n=100, t=20, G=3, k=3\n"
     ]
    },
    {
     "data": {
      "application/vnd.jupyter.widget-view+json": {
       "model_id": "ccf51661346b4c25b63bd6b8d40fbb7b",
       "version_major": 2,
       "version_minor": 0
      },
      "text/plain": [
       "DGP2 n=100, t=20, G=3, k=3:   0%|          | 0/200 [00:00<?, ?it/s]"
      ]
     },
     "metadata": {},
     "output_type": "display_data"
    },
    {
     "name": "stdout",
     "output_type": "stream",
     "text": [
      "Proportion of correct G estimates 100, 20, 3, 3: 1.00\n",
      "\n",
      "\n",
      "Running DGP2 with n=100, t=20, G=6, k=3\n"
     ]
    },
    {
     "data": {
      "application/vnd.jupyter.widget-view+json": {
       "model_id": "505afc6aa4b4455cb4221ab39520b430",
       "version_major": 2,
       "version_minor": 0
      },
      "text/plain": [
       "DGP2 n=100, t=20, G=6, k=3:   0%|          | 0/200 [00:00<?, ?it/s]"
      ]
     },
     "metadata": {},
     "output_type": "display_data"
    },
    {
     "name": "stdout",
     "output_type": "stream",
     "text": [
      "Proportion of correct G estimates 100, 20, 6, 3: 0.96\n",
      "\n",
      "\n",
      "Running DGP2 with n=100, t=50, G=3, k=3\n"
     ]
    },
    {
     "data": {
      "application/vnd.jupyter.widget-view+json": {
       "model_id": "8488c8539f3d4f33918ce21a82dfe704",
       "version_major": 2,
       "version_minor": 0
      },
      "text/plain": [
       "DGP2 n=100, t=50, G=3, k=3:   0%|          | 0/200 [00:00<?, ?it/s]"
      ]
     },
     "metadata": {},
     "output_type": "display_data"
    },
    {
     "name": "stdout",
     "output_type": "stream",
     "text": [
      "Proportion of correct G estimates 100, 50, 3, 3: 1.00\n",
      "\n",
      "\n",
      "Running DGP2 with n=100, t=50, G=6, k=3\n"
     ]
    },
    {
     "data": {
      "application/vnd.jupyter.widget-view+json": {
       "model_id": "89f10fce802946c4b441f888aee38237",
       "version_major": 2,
       "version_minor": 0
      },
      "text/plain": [
       "DGP2 n=100, t=50, G=6, k=3:   0%|          | 0/200 [00:00<?, ?it/s]"
      ]
     },
     "metadata": {},
     "output_type": "display_data"
    },
    {
     "name": "stdout",
     "output_type": "stream",
     "text": [
      "Proportion of correct G estimates 100, 50, 6, 3: 0.99\n",
      "\n",
      "\n",
      "Running DGP2 with n=200, t=20, G=3, k=3\n"
     ]
    },
    {
     "data": {
      "application/vnd.jupyter.widget-view+json": {
       "model_id": "e0e5f333f4c1420888d48d65686b4eac",
       "version_major": 2,
       "version_minor": 0
      },
      "text/plain": [
       "DGP2 n=200, t=20, G=3, k=3:   0%|          | 0/200 [00:00<?, ?it/s]"
      ]
     },
     "metadata": {},
     "output_type": "display_data"
    },
    {
     "name": "stdout",
     "output_type": "stream",
     "text": [
      "Proportion of correct G estimates 200, 20, 3, 3: 0.99\n",
      "\n",
      "\n",
      "Running DGP2 with n=200, t=20, G=6, k=3\n"
     ]
    },
    {
     "data": {
      "application/vnd.jupyter.widget-view+json": {
       "model_id": "26897471347e4312a9bd6d80105eb723",
       "version_major": 2,
       "version_minor": 0
      },
      "text/plain": [
       "DGP2 n=200, t=20, G=6, k=3:   0%|          | 0/200 [00:00<?, ?it/s]"
      ]
     },
     "metadata": {},
     "output_type": "display_data"
    },
    {
     "name": "stdout",
     "output_type": "stream",
     "text": [
      "Proportion of correct G estimates 200, 20, 6, 3: 0.99\n",
      "\n",
      "\n",
      "Running DGP2 with n=200, t=50, G=3, k=3\n"
     ]
    },
    {
     "data": {
      "application/vnd.jupyter.widget-view+json": {
       "model_id": "16ead30c42ae48a2b12fd9cf483cabc6",
       "version_major": 2,
       "version_minor": 0
      },
      "text/plain": [
       "DGP2 n=200, t=50, G=3, k=3:   0%|          | 0/200 [00:00<?, ?it/s]"
      ]
     },
     "metadata": {},
     "output_type": "display_data"
    },
    {
     "name": "stdout",
     "output_type": "stream",
     "text": [
      "Proportion of correct G estimates 200, 50, 3, 3: 1.00\n",
      "\n",
      "\n",
      "Running DGP2 with n=200, t=50, G=6, k=3\n"
     ]
    },
    {
     "data": {
      "application/vnd.jupyter.widget-view+json": {
       "model_id": "7140916405d64d62a17cc5c2d761f9e2",
       "version_major": 2,
       "version_minor": 0
      },
      "text/plain": [
       "DGP2 n=200, t=50, G=6, k=3:   0%|          | 0/200 [00:00<?, ?it/s]"
      ]
     },
     "metadata": {},
     "output_type": "display_data"
    },
    {
     "name": "stdout",
     "output_type": "stream",
     "text": [
      "Proportion of correct G estimates 200, 50, 6, 3: 1.00\n",
      "\\begin{tabular}{lrrrrrrrrrrrr}\n",
      "\\toprule\n",
      " & n & t & G & k & proportion_correct & 2 & 3 & 4 & 5 & 6 & 7 & 8 \\\\\n",
      "\\midrule\n",
      "0 & 100 & 20 & 3 & 3 & 1.000000 & 0 & 200 & 0 & 0 & 0 & 0 & 0 \\\\\n",
      "1 & 100 & 20 & 6 & 3 & 0.960000 & 0 & 0 & 0 & 3 & 192 & 4 & 1 \\\\\n",
      "2 & 100 & 50 & 3 & 3 & 1.000000 & 0 & 200 & 0 & 0 & 0 & 0 & 0 \\\\\n",
      "3 & 100 & 50 & 6 & 3 & 0.990000 & 0 & 0 & 0 & 0 & 198 & 2 & 0 \\\\\n",
      "4 & 200 & 20 & 3 & 3 & 0.995000 & 0 & 199 & 1 & 0 & 0 & 0 & 0 \\\\\n",
      "5 & 200 & 20 & 6 & 3 & 0.995000 & 0 & 0 & 0 & 0 & 199 & 1 & 0 \\\\\n",
      "6 & 200 & 50 & 3 & 3 & 1.000000 & 0 & 200 & 0 & 0 & 0 & 0 & 0 \\\\\n",
      "7 & 200 & 50 & 6 & 3 & 1.000000 & 0 & 0 & 0 & 0 & 200 & 0 & 0 \\\\\n",
      "\\bottomrule\n",
      "\\end{tabular}\n",
      "\n"
     ]
    }
   ],
   "source": [
    "res = []\n",
    "for n in (100, 200):\n",
    "    for t in (20, 50):\n",
    "        for G in (3, 6):\n",
    "            for k in (3,):\n",
    "                print(f\"\\n\\nRunning DGP2 with n={n}, t={t}, G={G}, k={k}\")\n",
    "                runs = pickle.load(open(f\"development/generated_data/dgp2_n{n}_t{t}_G{G}_k{k}.pkl\", \"rb\"))\n",
    "\n",
    "                # Wrap the iterable in tqdm to get a progress bar\n",
    "                estimates = Parallel(n_jobs=-1, prefer=\"processes\")(\n",
    "                    delayed(ab_ic)(run, G, i)\n",
    "                    for i, run in tqdm(enumerate(runs[:200]), total=200, desc=f\"DGP2 n={n}, t={t}, G={G}, k={k}\")\n",
    "                )\n",
    "\n",
    "                estimates = np.array(estimates)\n",
    "                proportion_correct = np.mean(estimates == G)\n",
    "                values = np.array([2, 3, 4, 5, 6, 7, 8])\n",
    "                value_count = np.array([(estimates == val).sum() for val in values])\n",
    "\n",
    "                # with open(output_path, \"wb\") as f:\n",
    "                #     pickle.dump(estimates, f)\n",
    "                print(f\"Proportion of correct G estimates {n}, {t}, {G}, {k}: {proportion_correct:.2f}\")\n",
    "                res.append((n, t, G, k, proportion_correct, *value_count))\n",
    "\n",
    "print(\n",
    "    pd.DataFrame(res, columns=[\"n\", \"t\", \"G\", \"k\", \"proportion_correct\", \"2\", \"3\", \"4\", \"5\", \"6\", \"7\", \"8\"]).to_latex()\n",
    ")"
   ]
  },
  {
   "cell_type": "code",
   "execution_count": 11,
   "id": "be7987af",
   "metadata": {},
   "outputs": [],
   "source": [
    "def sj_ic(run, G_true, i):\n",
    "    x, y, f, g, *_ = run\n",
    "    x = np.float32(x)\n",
    "    y = np.atleast_3d(np.float32(y))\n",
    "    f = np.float32(f)\n",
    "    n_boot = 100 if G_true < 4 else 50\n",
    "    kappa = 0.005 if G_true < 4 else 0.00005\n",
    "    bootstrap = True if G_true < 4 else False\n",
    "    try:\n",
    "        with open(os.devnull, \"w\") as devnull:\n",
    "            with contextlib.redirect_stdout(devnull), contextlib.redirect_stderr(devnull):\n",
    "                return (\n",
    "                    grid_search_by_ic(\n",
    "                        GroupedInteractiveFixedEffects,\n",
    "                        {\"G\": [2, 3, 4, 5, 6, 7, 8]},\n",
    "                        init_params={\n",
    "                            \"dependent\": y,\n",
    "                            \"exog\": x,\n",
    "                            \"bootstrap\": bootstrap,\n",
    "                            \"model\": \"su_ju\",\n",
    "                            \"hide_progressbar\": False,\n",
    "                        },\n",
    "                        fit_params={\n",
    "                            \"n_boot\": n_boot,\n",
    "                            \"only_bfgs\": True,\n",
    "                            \"max_iter\": 100,\n",
    "                            \"kappa\": kappa,\n",
    "                            \"tol\": 1e-2,\n",
    "                            \"boot_n_jobs\": 1,\n",
    "                        },\n",
    "                    )[2][\"G\"]\n",
    "                )\n",
    "    except Exception as err:\n",
    "        print(f\"Error in run {i}: {err}\")\n",
    "        return np.nan\n",
    "\n",
    "# runs = pickle.load(open(\"development/generated_data/dgp2_n100_t20_G3_k3.pkl\", \"rb\"))\n",
    "# sj_ic(runs[0], 3, 0)"
   ]
  },
  {
   "cell_type": "code",
   "execution_count": 12,
   "id": "845bbad7",
   "metadata": {},
   "outputs": [
    {
     "name": "stdout",
     "output_type": "stream",
     "text": [
      "\n",
      "\n",
      "Running DGP2 with n=100, t=20, G=3, k=3\n"
     ]
    },
    {
     "data": {
      "application/vnd.jupyter.widget-view+json": {
       "model_id": "f966aff2699b405f87a2c10180154046",
       "version_major": 2,
       "version_minor": 0
      },
      "text/plain": [
       "DGP2 n=100, t=20, G=3, k=3:   0%|          | 0/200 [00:00<?, ?it/s]"
      ]
     },
     "metadata": {},
     "output_type": "display_data"
    },
    {
     "name": "stdout",
     "output_type": "stream",
     "text": [
      "Proportion of correct G estimates 100, 20, 3, 3: 1.00\n",
      "\n",
      "\n",
      "Running DGP2 with n=100, t=20, G=6, k=3\n"
     ]
    },
    {
     "data": {
      "application/vnd.jupyter.widget-view+json": {
       "model_id": "2fa8700faa924a18a30bcfb859a049f3",
       "version_major": 2,
       "version_minor": 0
      },
      "text/plain": [
       "DGP2 n=100, t=20, G=6, k=3:   0%|          | 0/200 [00:00<?, ?it/s]"
      ]
     },
     "metadata": {},
     "output_type": "display_data"
    },
    {
     "name": "stdout",
     "output_type": "stream",
     "text": [
      "Proportion of correct G estimates 100, 20, 6, 3: 0.92\n",
      "\n",
      "\n",
      "Running DGP2 with n=100, t=50, G=3, k=3\n"
     ]
    },
    {
     "data": {
      "application/vnd.jupyter.widget-view+json": {
       "model_id": "95bb5adda7584923bec3ee1436ec57bc",
       "version_major": 2,
       "version_minor": 0
      },
      "text/plain": [
       "DGP2 n=100, t=50, G=3, k=3:   0%|          | 0/200 [00:00<?, ?it/s]"
      ]
     },
     "metadata": {},
     "output_type": "display_data"
    },
    {
     "name": "stdout",
     "output_type": "stream",
     "text": [
      "Proportion of correct G estimates 100, 50, 3, 3: 1.00\n",
      "\n",
      "\n",
      "Running DGP2 with n=100, t=50, G=6, k=3\n"
     ]
    },
    {
     "data": {
      "application/vnd.jupyter.widget-view+json": {
       "model_id": "0e3d587dd7434210b3e660b76abe81b3",
       "version_major": 2,
       "version_minor": 0
      },
      "text/plain": [
       "DGP2 n=100, t=50, G=6, k=3:   0%|          | 0/200 [00:00<?, ?it/s]"
      ]
     },
     "metadata": {},
     "output_type": "display_data"
    },
    {
     "name": "stdout",
     "output_type": "stream",
     "text": [
      "Proportion of correct G estimates 100, 50, 6, 3: 0.89\n",
      "\n",
      "\n",
      "Running DGP2 with n=200, t=20, G=3, k=3\n"
     ]
    },
    {
     "data": {
      "application/vnd.jupyter.widget-view+json": {
       "model_id": "65c0ca9ea3c945bf8347126eb862bee7",
       "version_major": 2,
       "version_minor": 0
      },
      "text/plain": [
       "DGP2 n=200, t=20, G=3, k=3:   0%|          | 0/200 [00:00<?, ?it/s]"
      ]
     },
     "metadata": {},
     "output_type": "display_data"
    },
    {
     "name": "stdout",
     "output_type": "stream",
     "text": [
      "Proportion of correct G estimates 200, 20, 3, 3: 0.99\n",
      "\n",
      "\n",
      "Running DGP2 with n=200, t=20, G=6, k=3\n"
     ]
    },
    {
     "data": {
      "application/vnd.jupyter.widget-view+json": {
       "model_id": "6ddd0d66c63f4b65b17f78683e3b5f4c",
       "version_major": 2,
       "version_minor": 0
      },
      "text/plain": [
       "DGP2 n=200, t=20, G=6, k=3:   0%|          | 0/200 [00:00<?, ?it/s]"
      ]
     },
     "metadata": {},
     "output_type": "display_data"
    },
    {
     "name": "stdout",
     "output_type": "stream",
     "text": [
      "Proportion of correct G estimates 200, 20, 6, 3: 0.93\n",
      "\n",
      "\n",
      "Running DGP2 with n=200, t=50, G=3, k=3\n"
     ]
    },
    {
     "data": {
      "application/vnd.jupyter.widget-view+json": {
       "model_id": "aa8582aa7184483c8af5e29396e6a144",
       "version_major": 2,
       "version_minor": 0
      },
      "text/plain": [
       "DGP2 n=200, t=50, G=3, k=3:   0%|          | 0/200 [00:00<?, ?it/s]"
      ]
     },
     "metadata": {},
     "output_type": "display_data"
    },
    {
     "name": "stdout",
     "output_type": "stream",
     "text": [
      "Proportion of correct G estimates 200, 50, 3, 3: 1.00\n",
      "\n",
      "\n",
      "Running DGP2 with n=200, t=50, G=6, k=3\n"
     ]
    },
    {
     "data": {
      "application/vnd.jupyter.widget-view+json": {
       "model_id": "4fe499ac6aaf4bc1b8819a3ff920cf74",
       "version_major": 2,
       "version_minor": 0
      },
      "text/plain": [
       "DGP2 n=200, t=50, G=6, k=3:   0%|          | 0/200 [00:00<?, ?it/s]"
      ]
     },
     "metadata": {},
     "output_type": "display_data"
    },
    {
     "name": "stdout",
     "output_type": "stream",
     "text": [
      "Proportion of correct G estimates 200, 50, 6, 3: 0.97\n",
      "\\begin{tabular}{lrrrrrrrrrrrr}\n",
      "\\toprule\n",
      " & n & t & G & k & proportion_correct & 2 & 3 & 4 & 5 & 6 & 7 & 8 \\\\\n",
      "\\midrule\n",
      "0 & 100 & 20 & 3 & 3 & 1.000000 & 0 & 200 & 0 & 0 & 0 & 0 & 0 \\\\\n",
      "1 & 100 & 20 & 6 & 3 & 0.920000 & 0 & 0 & 0 & 14 & 184 & 2 & 0 \\\\\n",
      "2 & 100 & 50 & 3 & 3 & 1.000000 & 0 & 200 & 0 & 0 & 0 & 0 & 0 \\\\\n",
      "3 & 100 & 50 & 6 & 3 & 0.885000 & 0 & 0 & 0 & 0 & 177 & 21 & 2 \\\\\n",
      "4 & 200 & 20 & 3 & 3 & 0.995000 & 0 & 199 & 1 & 0 & 0 & 0 & 0 \\\\\n",
      "5 & 200 & 20 & 6 & 3 & 0.930000 & 0 & 0 & 0 & 14 & 186 & 0 & 0 \\\\\n",
      "6 & 200 & 50 & 3 & 3 & 1.000000 & 0 & 200 & 0 & 0 & 0 & 0 & 0 \\\\\n",
      "7 & 200 & 50 & 6 & 3 & 0.970000 & 0 & 0 & 0 & 0 & 194 & 6 & 0 \\\\\n",
      "\\bottomrule\n",
      "\\end{tabular}\n",
      "\n"
     ]
    }
   ],
   "source": [
    "res = []\n",
    "for n in (100, 200):\n",
    "    for t in (20, 50):\n",
    "        for G in (3, 6):\n",
    "            for k in (3,):\n",
    "                print(f\"\\n\\nRunning DGP2 with n={n}, t={t}, G={G}, k={k}\")\n",
    "                runs = pickle.load(open(f\"development/generated_data/dgp2_n{n}_t{t}_G{G}_k{k}.pkl\", \"rb\"))\n",
    "\n",
    "                # Wrap the iterable in tqdm to get a progress bar\n",
    "                estimates = Parallel(n_jobs=-1, prefer=\"processes\")(\n",
    "                    delayed(sj_ic)(run, G, i)\n",
    "                    for i, run in tqdm(enumerate(runs[:200]), total=200, desc=f\"DGP2 n={n}, t={t}, G={G}, k={k}\")\n",
    "                )\n",
    "\n",
    "                estimates = np.array(estimates)\n",
    "                proportion_correct = np.mean(estimates == G)\n",
    "                values = np.array([2, 3, 4, 5, 6, 7, 8])\n",
    "                value_count = np.array([(estimates == val).sum() for val in values])\n",
    "\n",
    "                # with open(output_path, \"wb\") as f:\n",
    "                #     pickle.dump(estimates, f)\n",
    "                print(f\"Proportion of correct G estimates {n}, {t}, {G}, {k}: {proportion_correct:.2f}\")\n",
    "                res.append((n, t, G, k, proportion_correct, *value_count))\n",
    "\n",
    "print(\n",
    "    pd.DataFrame(res, columns=[\"n\", \"t\", \"G\", \"k\", \"proportion_correct\", \"2\", \"3\", \"4\", \"5\", \"6\", \"7\", \"8\"]).to_latex()\n",
    ")"
   ]
  },
  {
   "cell_type": "code",
   "execution_count": 21,
   "id": "3f9c7c5f",
   "metadata": {},
   "outputs": [],
   "source": [
    "def ssp_ic(run, G_true, i):\n",
    "    x, y, g = run\n",
    "    x = np.float32(x)\n",
    "    y = np.atleast_3d(np.float32(y))\n",
    "    n_boot = 100 if G_true < 4 else 50\n",
    "    kappa = 0.05 if G_true < 4 else 0.005\n",
    "    bootstrap = True if G_true < 4 else False\n",
    "    try:\n",
    "        with open(os.devnull, \"w\") as devnull:\n",
    "            with contextlib.redirect_stdout(devnull), contextlib.redirect_stderr(devnull):\n",
    "                return grid_search_by_ic(\n",
    "                    GroupedFixedEffects,\n",
    "                    {\"G\": [2, 3, 4, 5, 6, 7, 8], \"kappa\": [1, 0.5, 0.05, 0.005]},\n",
    "                    init_params={\n",
    "                        \"dependent\": y,\n",
    "                        \"exog\": x,\n",
    "                        \"bootstrap\": bootstrap,\n",
    "                        \"model\": \"su_shi_phillips\",\n",
    "                        \"hide_progressbar\": False,\n",
    "                    },\n",
    "                    fit_params={\n",
    "                        \"n_boot\": n_boot,\n",
    "                        \"only_bfgs\": True,\n",
    "                        \"max_iter\": 100,\n",
    "                        \"kappa\": kappa,\n",
    "                        \"tol\": 1e-2,\n",
    "                        \"boot_n_jobs\": 1,\n",
    "                    },\n",
    "                )[2][\"G\"]\n",
    "    except Exception as err:\n",
    "        print(f\"Error in run {i}: {err}\")\n",
    "        return np.nan\n",
    "\n",
    "\n",
    "# runs = pickle.load(open(\"development/generated_data/dgp2_n100_t20_G3_k3.pkl\", \"rb\"))\n",
    "# sj_ic(runs[0], 3, 0)"
   ]
  },
  {
   "cell_type": "code",
   "execution_count": null,
   "id": "b477e474",
   "metadata": {},
   "outputs": [
    {
     "name": "stdout",
     "output_type": "stream",
     "text": [
      "\n",
      "\n",
      "Running DGP1 with n=100, t=20, G=3, k=3\n"
     ]
    },
    {
     "data": {
      "application/vnd.jupyter.widget-view+json": {
       "model_id": "75d862c6ac024aa1ad293f58745a5113",
       "version_major": 2,
       "version_minor": 0
      },
      "text/plain": [
       "DGP3 n=100, t=20, G=3, k=3:   0%|          | 0/200 [00:00<?, ?it/s]"
      ]
     },
     "metadata": {},
     "output_type": "display_data"
    },
    {
     "name": "stdout",
     "output_type": "stream",
     "text": [
      "Proportion of correct G estimates 100, 20, 3, 3: 0.48\n",
      "\n",
      "\n",
      "Running DGP1 with n=100, t=20, G=6, k=3\n"
     ]
    },
    {
     "data": {
      "application/vnd.jupyter.widget-view+json": {
       "model_id": "0e962a2c27ea4050b324c10914ec8bea",
       "version_major": 2,
       "version_minor": 0
      },
      "text/plain": [
       "DGP3 n=100, t=20, G=6, k=3:   0%|          | 0/200 [00:00<?, ?it/s]"
      ]
     },
     "metadata": {},
     "output_type": "display_data"
    },
    {
     "name": "stdout",
     "output_type": "stream",
     "text": [
      "Proportion of correct G estimates 100, 20, 6, 3: 0.80\n",
      "\n",
      "\n",
      "Running DGP1 with n=100, t=50, G=3, k=3\n"
     ]
    },
    {
     "data": {
      "application/vnd.jupyter.widget-view+json": {
       "model_id": "ba3c0a183b674cd7b403792ac30b1e6b",
       "version_major": 2,
       "version_minor": 0
      },
      "text/plain": [
       "DGP3 n=100, t=50, G=3, k=3:   0%|          | 0/200 [00:00<?, ?it/s]"
      ]
     },
     "metadata": {},
     "output_type": "display_data"
    },
    {
     "name": "stdout",
     "output_type": "stream",
     "text": [
      "Proportion of correct G estimates 100, 50, 3, 3: 0.88\n",
      "\n",
      "\n",
      "Running DGP1 with n=100, t=50, G=6, k=3\n"
     ]
    },
    {
     "data": {
      "application/vnd.jupyter.widget-view+json": {
       "model_id": "20d7b285c59c4af38c0fd5d1d757905b",
       "version_major": 2,
       "version_minor": 0
      },
      "text/plain": [
       "DGP3 n=100, t=50, G=6, k=3:   0%|          | 0/200 [00:00<?, ?it/s]"
      ]
     },
     "metadata": {},
     "output_type": "display_data"
    },
    {
     "name": "stdout",
     "output_type": "stream",
     "text": [
      "Proportion of correct G estimates 100, 50, 6, 3: 0.91\n",
      "\n",
      "\n",
      "Running DGP1 with n=200, t=20, G=3, k=3\n"
     ]
    },
    {
     "data": {
      "application/vnd.jupyter.widget-view+json": {
       "model_id": "280a175577954366b49f73aeeb9b48cc",
       "version_major": 2,
       "version_minor": 0
      },
      "text/plain": [
       "DGP3 n=200, t=20, G=3, k=3:   0%|          | 0/200 [00:00<?, ?it/s]"
      ]
     },
     "metadata": {},
     "output_type": "display_data"
    },
    {
     "name": "stdout",
     "output_type": "stream",
     "text": [
      "Proportion of correct G estimates 200, 20, 3, 3: 0.07\n",
      "\n",
      "\n",
      "Running DGP1 with n=200, t=20, G=6, k=3\n"
     ]
    },
    {
     "data": {
      "application/vnd.jupyter.widget-view+json": {
       "model_id": "e6ec7e8ec7f14213873286399599f02b",
       "version_major": 2,
       "version_minor": 0
      },
      "text/plain": [
       "DGP3 n=200, t=20, G=6, k=3:   0%|          | 0/200 [00:00<?, ?it/s]"
      ]
     },
     "metadata": {},
     "output_type": "display_data"
    },
    {
     "name": "stdout",
     "output_type": "stream",
     "text": [
      "Proportion of correct G estimates 200, 20, 6, 3: 0.68\n",
      "\n",
      "\n",
      "Running DGP1 with n=200, t=50, G=3, k=3\n"
     ]
    },
    {
     "data": {
      "application/vnd.jupyter.widget-view+json": {
       "model_id": "ee63371a21da4e93b4969c590f93012e",
       "version_major": 2,
       "version_minor": 0
      },
      "text/plain": [
       "DGP3 n=200, t=50, G=3, k=3:   0%|          | 0/200 [00:00<?, ?it/s]"
      ]
     },
     "metadata": {},
     "output_type": "display_data"
    },
    {
     "name": "stdout",
     "output_type": "stream",
     "text": [
      "Proportion of correct G estimates 200, 50, 3, 3: 0.35\n",
      "\n",
      "\n",
      "Running DGP1 with n=200, t=50, G=6, k=3\n"
     ]
    },
    {
     "data": {
      "application/vnd.jupyter.widget-view+json": {
       "model_id": "2fe06d2be3d7459ba9c255971978f25b",
       "version_major": 2,
       "version_minor": 0
      },
      "text/plain": [
       "DGP3 n=200, t=50, G=6, k=3:   0%|          | 0/200 [00:00<?, ?it/s]"
      ]
     },
     "metadata": {},
     "output_type": "display_data"
    },
    {
     "name": "stdout",
     "output_type": "stream",
     "text": [
      "Proportion of correct G estimates 200, 50, 6, 3: 0.91\n",
      "\\begin{tabular}{lrrrrrrrrrrrr}\n",
      "\\toprule\n",
      " & n & t & G & k & proportion_correct & 2 & 3 & 4 & 5 & 6 & 7 & 8 \\\\\n",
      "\\midrule\n",
      "0 & 100 & 20 & 3 & 3 & 0.480000 & 0 & 96 & 36 & 26 & 29 & 12 & 1 \\\\\n",
      "1 & 100 & 20 & 6 & 3 & 0.800000 & 0 & 0 & 0 & 0 & 160 & 26 & 14 \\\\\n",
      "2 & 100 & 50 & 3 & 3 & 0.880000 & 0 & 176 & 14 & 6 & 3 & 1 & 0 \\\\\n",
      "3 & 100 & 50 & 6 & 3 & 0.910000 & 0 & 0 & 0 & 0 & 182 & 15 & 3 \\\\\n",
      "4 & 200 & 20 & 3 & 3 & 0.075000 & 0 & 15 & 43 & 16 & 35 & 67 & 24 \\\\\n",
      "5 & 200 & 20 & 6 & 3 & 0.680000 & 0 & 0 & 0 & 0 & 136 & 47 & 17 \\\\\n",
      "6 & 200 & 50 & 3 & 3 & 0.355000 & 0 & 71 & 13 & 38 & 47 & 29 & 2 \\\\\n",
      "7 & 200 & 50 & 6 & 3 & 0.910000 & 0 & 0 & 0 & 0 & 182 & 10 & 8 \\\\\n",
      "\\bottomrule\n",
      "\\end{tabular}\n",
      "\n"
     ]
    },
    {
     "name": "stderr",
     "output_type": "stream",
     "text": [
      "Exception ignored in: <function ResourceTracker.__del__ at 0x1036e9620>\n",
      "Traceback (most recent call last):\n",
      "  File \"/Library/Frameworks/Python.framework/Versions/3.13/lib/python3.13/multiprocessing/resource_tracker.py\", line 82, in __del__\n",
      "  File \"/Library/Frameworks/Python.framework/Versions/3.13/lib/python3.13/multiprocessing/resource_tracker.py\", line 91, in _stop\n",
      "  File \"/Library/Frameworks/Python.framework/Versions/3.13/lib/python3.13/multiprocessing/resource_tracker.py\", line 116, in _stop_locked\n",
      "ChildProcessError: [Errno 10] No child processes\n",
      "Exception ignored in: <function ResourceTracker.__del__ at 0x106c01620>\n",
      "Traceback (most recent call last):\n",
      "  File \"/Library/Frameworks/Python.framework/Versions/3.13/lib/python3.13/multiprocessing/resource_tracker.py\", line 82, in __del__\n",
      "  File \"/Library/Frameworks/Python.framework/Versions/3.13/lib/python3.13/multiprocessing/resource_tracker.py\", line 91, in _stop\n",
      "  File \"/Library/Frameworks/Python.framework/Versions/3.13/lib/python3.13/multiprocessing/resource_tracker.py\", line 116, in _stop_locked\n",
      "ChildProcessError: [Errno 10] No child processes\n",
      "Exception ignored in: <function ResourceTracker.__del__ at 0x104d45620>\n",
      "Traceback (most recent call last):\n",
      "  File \"/Library/Frameworks/Python.framework/Versions/3.13/lib/python3.13/multiprocessing/resource_tracker.py\", line 82, in __del__\n",
      "  File \"/Library/Frameworks/Python.framework/Versions/3.13/lib/python3.13/multiprocessing/resource_tracker.py\", line 91, in _stop\n",
      "  File \"/Library/Frameworks/Python.framework/Versions/3.13/lib/python3.13/multiprocessing/resource_tracker.py\", line 116, in _stop_locked\n",
      "ChildProcessError: [Errno 10] No child processes\n",
      "Exception ignored in: <function ResourceTracker.__del__ at 0x105cb5620>\n",
      "Traceback (most recent call last):\n",
      "  File \"/Library/Frameworks/Python.framework/Versions/3.13/lib/python3.13/multiprocessing/resource_tracker.py\", line 82, in __del__\n",
      "  File \"/Library/Frameworks/Python.framework/Versions/3.13/lib/python3.13/multiprocessing/resource_tracker.py\", line 91, in _stop\n",
      "  File \"/Library/Frameworks/Python.framework/Versions/3.13/lib/python3.13/multiprocessing/resource_tracker.py\", line 116, in _stop_locked\n",
      "ChildProcessError: [Errno 10] No child processes\n",
      "Exception ignored in: <function ResourceTracker.__del__ at 0x1056e9620>\n",
      "Traceback (most recent call last):\n",
      "  File \"/Library/Frameworks/Python.framework/Versions/3.13/lib/python3.13/multiprocessing/resource_tracker.py\", line 82, in __del__\n",
      "  File \"/Library/Frameworks/Python.framework/Versions/3.13/lib/python3.13/multiprocessing/resource_tracker.py\", line 91, in _stop\n",
      "  File \"/Library/Frameworks/Python.framework/Versions/3.13/lib/python3.13/multiprocessing/resource_tracker.py\", line 116, in _stop_locked\n",
      "ChildProcessError: [Errno 10] No child processes\n",
      "Exception ignored in: <function ResourceTracker.__del__ at 0x106949620>\n",
      "Traceback (most recent call last):\n",
      "  File \"/Library/Frameworks/Python.framework/Versions/3.13/lib/python3.13/multiprocessing/resource_tracker.py\", line 82, in __del__\n",
      "  File \"/Library/Frameworks/Python.framework/Versions/3.13/lib/python3.13/multiprocessing/resource_tracker.py\", line 91, in _stop\n",
      "  File \"/Library/Frameworks/Python.framework/Versions/3.13/lib/python3.13/multiprocessing/resource_tracker.py\", line 116, in _stop_locked\n",
      "ChildProcessError: [Errno 10] No child processes\n",
      "Exception ignored in: <function ResourceTracker.__del__ at 0x105cd5620>\n",
      "Traceback (most recent call last):\n",
      "  File \"/Library/Frameworks/Python.framework/Versions/3.13/lib/python3.13/multiprocessing/resource_tracker.py\", line 82, in __del__\n",
      "  File \"/Library/Frameworks/Python.framework/Versions/3.13/lib/python3.13/multiprocessing/resource_tracker.py\", line 91, in _stop\n",
      "  File \"/Library/Frameworks/Python.framework/Versions/3.13/lib/python3.13/multiprocessing/resource_tracker.py\", line 116, in _stop_locked\n",
      "ChildProcessError: [Errno 10] No child processes\n",
      "Exception ignored in: <function ResourceTracker.__del__ at 0x102589620>\n",
      "Traceback (most recent call last):\n",
      "  File \"/Library/Frameworks/Python.framework/Versions/3.13/lib/python3.13/multiprocessing/resource_tracker.py\", line 82, in __del__\n",
      "  File \"/Library/Frameworks/Python.framework/Versions/3.13/lib/python3.13/multiprocessing/resource_tracker.py\", line 91, in _stop\n",
      "  File \"/Library/Frameworks/Python.framework/Versions/3.13/lib/python3.13/multiprocessing/resource_tracker.py\", line 116, in _stop_locked\n",
      "ChildProcessError: [Errno 10] No child processes\n",
      "Exception ignored in: <function ResourceTracker.__del__ at 0x1040b9620>\n",
      "Traceback (most recent call last):\n",
      "  File \"/Library/Frameworks/Python.framework/Versions/3.13/lib/python3.13/multiprocessing/resource_tracker.py\", line 82, in __del__\n",
      "  File \"/Library/Frameworks/Python.framework/Versions/3.13/lib/python3.13/multiprocessing/resource_tracker.py\", line 91, in _stop\n",
      "  File \"/Library/Frameworks/Python.framework/Versions/3.13/lib/python3.13/multiprocessing/resource_tracker.py\", line 116, in _stop_locked\n",
      "ChildProcessError: [Errno 10] No child processes\n",
      "Exception ignored in: <function ResourceTracker.__del__ at 0x103f85620>\n",
      "Traceback (most recent call last):\n",
      "  File \"/Library/Frameworks/Python.framework/Versions/3.13/lib/python3.13/multiprocessing/resource_tracker.py\", line 82, in __del__\n",
      "  File \"/Library/Frameworks/Python.framework/Versions/3.13/lib/python3.13/multiprocessing/resource_tracker.py\", line 91, in _stop\n",
      "  File \"/Library/Frameworks/Python.framework/Versions/3.13/lib/python3.13/multiprocessing/resource_tracker.py\", line 116, in _stop_locked\n",
      "ChildProcessError: [Errno 10] No child processes\n"
     ]
    }
   ],
   "source": [
    "res = []\n",
    "for n in (100, 200):\n",
    "    for t in (20, 50):\n",
    "        for G in (3, 6):\n",
    "            for k in (3,):\n",
    "                print(f\"\\n\\nRunning DGP1 with n={n}, t={t}, G={G}, k={k}\")\n",
    "                runs = pickle.load(open(f\"development/generated_data/dgp3_n{n}_t{t}_G{G}_k{k}.pkl\", \"rb\"))\n",
    "\n",
    "                # Wrap the iterable in tqdm to get a progress bar\n",
    "                estimates = Parallel(n_jobs=-1, prefer=\"processes\")(\n",
    "                    delayed(ssp_ic)(run, G, i)\n",
    "                    for i, run in tqdm(enumerate(runs[:200]), total=200, desc=f\"DGP3 n={n}, t={t}, G={G}, k={k}\")\n",
    "                )\n",
    "\n",
    "                estimates = np.array(estimates)\n",
    "                proportion_correct = np.mean(estimates == G)\n",
    "                values = np.array([2, 3, 4, 5, 6, 7, 8])\n",
    "                value_count = np.array([(estimates == val).sum() for val in values])\n",
    "\n",
    "                # with open(output_path, \"wb\") as f:\n",
    "                #     pickle.dump(estimates, f)\n",
    "                print(f\"Proportion of correct G estimates {n}, {t}, {G}, {k}: {proportion_correct:.2f}\")\n",
    "                res.append((n, t, G, k, proportion_correct, *value_count))\n",
    "\n",
    "print(\n",
    "    pd.DataFrame(res, columns=[\"n\", \"t\", \"G\", \"k\", \"proportion_correct\", \"2\", \"3\", \"4\", \"5\", \"6\", \"7\", \"8\"]).to_latex()\n",
    ")"
   ]
  }
 ],
 "metadata": {
  "kernelspec": {
   "display_name": "Python 3",
   "language": "python",
   "name": "python3"
  },
  "language_info": {
   "codemirror_mode": {
    "name": "ipython",
    "version": 3
   },
   "file_extension": ".py",
   "mimetype": "text/x-python",
   "name": "python",
   "nbconvert_exporter": "python",
   "pygments_lexer": "ipython3",
   "version": "3.13.3"
  }
 },
 "nbformat": 4,
 "nbformat_minor": 5
}
